{
 "cells": [
  {
   "cell_type": "markdown",
   "metadata": {},
   "source": [
    "# Make an IPS from BgZ resources\n",
    "- Imports\n",
    "- Collect all resources in some place\n",
    "- Set up stuff: server, patient id, patient file, fhir resource files"
   ]
  },
  {
   "cell_type": "code",
   "execution_count": 1,
   "metadata": {
    "tags": []
   },
   "outputs": [],
   "source": [
    "import os \n",
    "import json\n",
    "import requests\n",
    "import pandas as pd\n",
    "from IPython.display import JSON, HTML\n",
    "\n",
    "zibs = 'zibsr4-examples-json'\n",
    "# zibsr4 = 'bp-test'\n",
    "files = os.listdir(zibs)\n",
    "\n",
    "# base = \"http://ips.health:8080/fhir/\"\n",
    "# base = \"https://hl7-ips-server.hl7.org/fhir/\"\n",
    "base = \"http://hapi.fhir.org/baseR4/\"\n",
    "\n",
    "patientid = \"nl-core-Patient-01\"\n",
    "# patientid = \"example-bptest\"\n",
    "\n",
    "# Patient file\n",
    "filename = 'Patient-nl-core-Patient-01--30804749.json'\n",
    "# filename = 'Patient-nl-core-Patient-test.json'\n",
    "# filename = 'bp-test/patient-example.json'"
   ]
  },
  {
   "cell_type": "markdown",
   "metadata": {},
   "source": [
    "- Set patient id\n",
    "- Collect all resource files, put in dict, show in dataframe for easy inspection.\n",
    "- For zibsr4 examples I removed pregnancy, since patient was born in 1934\n",
    "- Made 2 problems inactive to populate History of past problems"
   ]
  },
  {
   "cell_type": "code",
   "execution_count": 2,
   "metadata": {
    "tags": []
   },
   "outputs": [],
   "source": [
    "resources = []\n",
    "for file in files:\n",
    "    if file[0] == '.':\n",
    "        continue\n",
    "    with open(os.path.join(zibs, file)) as f:\n",
    "        jsondata = json.load(f)\n",
    "        try:\n",
    "            if \"subject\" in jsondata:\n",
    "                patient = jsondata['subject']['reference']\n",
    "                target = \"subject\" \n",
    "            elif \"patient\" in jsondata:\n",
    "                patient = jsondata['patient']['reference']\n",
    "                target = \"patient\" \n",
    "            else:\n",
    "                patient = None\n",
    "            resources.append({\"id\": jsondata['id'], \"patient\": patient, \"type\": jsondata['resourceType'], \"target\": target, \"file\": file})\n",
    "        except:\n",
    "            print(file, ' failed')\n",
    "df = pd.DataFrame.from_records(resources)"
   ]
  },
  {
   "cell_type": "markdown",
   "metadata": {},
   "source": [
    "- Inspect if wanted, filter if wanted, adapt ( df = df[....]) is wanted"
   ]
  },
  {
   "cell_type": "code",
   "execution_count": 3,
   "metadata": {
    "tags": []
   },
   "outputs": [
    {
     "data": {
      "text/html": [
       "<div>\n",
       "<style scoped>\n",
       "    .dataframe tbody tr th:only-of-type {\n",
       "        vertical-align: middle;\n",
       "    }\n",
       "\n",
       "    .dataframe tbody tr th {\n",
       "        vertical-align: top;\n",
       "    }\n",
       "\n",
       "    .dataframe thead th {\n",
       "        text-align: right;\n",
       "    }\n",
       "</style>\n",
       "<table border=\"1\" class=\"dataframe\">\n",
       "  <thead>\n",
       "    <tr style=\"text-align: right;\">\n",
       "      <th></th>\n",
       "      <th>id</th>\n",
       "      <th>patient</th>\n",
       "      <th>type</th>\n",
       "      <th>target</th>\n",
       "      <th>file</th>\n",
       "    </tr>\n",
       "  </thead>\n",
       "  <tbody>\n",
       "    <tr>\n",
       "      <th>66</th>\n",
       "      <td>nl-core-AdministrationAgreement-01-Medication-01</td>\n",
       "      <td>None</td>\n",
       "      <td>Medication</td>\n",
       "      <td>subject</td>\n",
       "      <td>Medication-nl-core-AdministrationAgreement-01-...</td>\n",
       "    </tr>\n",
       "    <tr>\n",
       "      <th>67</th>\n",
       "      <td>nl-core-AdministrationAgreement-02-Medication-01</td>\n",
       "      <td>None</td>\n",
       "      <td>Medication</td>\n",
       "      <td>subject</td>\n",
       "      <td>Medication-nl-core-AdministrationAgreement-02-...</td>\n",
       "    </tr>\n",
       "    <tr>\n",
       "      <th>68</th>\n",
       "      <td>nl-core-AdministrationAgreement-03-Medication-01</td>\n",
       "      <td>None</td>\n",
       "      <td>Medication</td>\n",
       "      <td>subject</td>\n",
       "      <td>Medication-nl-core-AdministrationAgreement-03-...</td>\n",
       "    </tr>\n",
       "    <tr>\n",
       "      <th>69</th>\n",
       "      <td>nl-core-AdministrationAgreement-04-Medication-01</td>\n",
       "      <td>None</td>\n",
       "      <td>Medication</td>\n",
       "      <td>subject</td>\n",
       "      <td>Medication-nl-core-AdministrationAgreement-04-...</td>\n",
       "    </tr>\n",
       "    <tr>\n",
       "      <th>70</th>\n",
       "      <td>nl-core-DispenseRequest-01-Medication-01</td>\n",
       "      <td>None</td>\n",
       "      <td>Medication</td>\n",
       "      <td>subject</td>\n",
       "      <td>Medication-nl-core-DispenseRequest-01-Medicati...</td>\n",
       "    </tr>\n",
       "    <tr>\n",
       "      <th>71</th>\n",
       "      <td>nl-core-MedicationAdministration2-01-Medicatio...</td>\n",
       "      <td>None</td>\n",
       "      <td>Medication</td>\n",
       "      <td>subject</td>\n",
       "      <td>Medication-nl-core-MedicationAdministration2-0...</td>\n",
       "    </tr>\n",
       "    <tr>\n",
       "      <th>72</th>\n",
       "      <td>nl-core-MedicationAdministration2-02-Medicatio...</td>\n",
       "      <td>None</td>\n",
       "      <td>Medication</td>\n",
       "      <td>subject</td>\n",
       "      <td>Medication-nl-core-MedicationAdministration2-0...</td>\n",
       "    </tr>\n",
       "    <tr>\n",
       "      <th>73</th>\n",
       "      <td>nl-core-MedicationAdministration2-03-Medicatio...</td>\n",
       "      <td>None</td>\n",
       "      <td>Medication</td>\n",
       "      <td>subject</td>\n",
       "      <td>Medication-nl-core-MedicationAdministration2-0...</td>\n",
       "    </tr>\n",
       "    <tr>\n",
       "      <th>74</th>\n",
       "      <td>nl-core-MedicationAgreement-01-Medication-01</td>\n",
       "      <td>None</td>\n",
       "      <td>Medication</td>\n",
       "      <td>subject</td>\n",
       "      <td>Medication-nl-core-MedicationAgreement-01-Medi...</td>\n",
       "    </tr>\n",
       "    <tr>\n",
       "      <th>75</th>\n",
       "      <td>nl-core-MedicationAgreement-02-Medication-01</td>\n",
       "      <td>None</td>\n",
       "      <td>Medication</td>\n",
       "      <td>subject</td>\n",
       "      <td>Medication-nl-core-MedicationAgreement-02-Medi...</td>\n",
       "    </tr>\n",
       "    <tr>\n",
       "      <th>76</th>\n",
       "      <td>nl-core-MedicationDispense-01-Medication-01</td>\n",
       "      <td>None</td>\n",
       "      <td>Medication</td>\n",
       "      <td>subject</td>\n",
       "      <td>Medication-nl-core-MedicationDispense-01-Medic...</td>\n",
       "    </tr>\n",
       "    <tr>\n",
       "      <th>77</th>\n",
       "      <td>nl-core-MedicationDispense-02-Medication-01</td>\n",
       "      <td>None</td>\n",
       "      <td>Medication</td>\n",
       "      <td>subject</td>\n",
       "      <td>Medication-nl-core-MedicationDispense-02-Medic...</td>\n",
       "    </tr>\n",
       "    <tr>\n",
       "      <th>78</th>\n",
       "      <td>nl-core-MedicationDispense-03-Medication-01</td>\n",
       "      <td>None</td>\n",
       "      <td>Medication</td>\n",
       "      <td>subject</td>\n",
       "      <td>Medication-nl-core-MedicationDispense-03-Medic...</td>\n",
       "    </tr>\n",
       "    <tr>\n",
       "      <th>79</th>\n",
       "      <td>nl-core-MedicationDispense-04-Medication-01</td>\n",
       "      <td>None</td>\n",
       "      <td>Medication</td>\n",
       "      <td>subject</td>\n",
       "      <td>Medication-nl-core-MedicationDispense-04-Medic...</td>\n",
       "    </tr>\n",
       "    <tr>\n",
       "      <th>80</th>\n",
       "      <td>nl-core-MedicationUse2-01-Medication-01</td>\n",
       "      <td>None</td>\n",
       "      <td>Medication</td>\n",
       "      <td>subject</td>\n",
       "      <td>Medication-nl-core-MedicationUse2-01-Medicatio...</td>\n",
       "    </tr>\n",
       "    <tr>\n",
       "      <th>81</th>\n",
       "      <td>nl-core-PharmaceuticalProduct-01</td>\n",
       "      <td>None</td>\n",
       "      <td>Medication</td>\n",
       "      <td>subject</td>\n",
       "      <td>Medication-nl-core-PharmaceuticalProduct-01--3...</td>\n",
       "    </tr>\n",
       "    <tr>\n",
       "      <th>82</th>\n",
       "      <td>nl-core-PharmaceuticalProduct-01</td>\n",
       "      <td>None</td>\n",
       "      <td>Medication</td>\n",
       "      <td>subject</td>\n",
       "      <td>Medication-nl-core-PharmaceuticalProduct-01--4...</td>\n",
       "    </tr>\n",
       "    <tr>\n",
       "      <th>83</th>\n",
       "      <td>nl-core-PharmaceuticalProduct-02</td>\n",
       "      <td>None</td>\n",
       "      <td>Medication</td>\n",
       "      <td>subject</td>\n",
       "      <td>Medication-nl-core-PharmaceuticalProduct-02--1...</td>\n",
       "    </tr>\n",
       "    <tr>\n",
       "      <th>84</th>\n",
       "      <td>nl-core-PharmaceuticalProduct-02</td>\n",
       "      <td>None</td>\n",
       "      <td>Medication</td>\n",
       "      <td>subject</td>\n",
       "      <td>Medication-nl-core-PharmaceuticalProduct-02--4...</td>\n",
       "    </tr>\n",
       "    <tr>\n",
       "      <th>85</th>\n",
       "      <td>nl-core-Vaccination-03-PharmaceuticalProduct-01</td>\n",
       "      <td>None</td>\n",
       "      <td>Medication</td>\n",
       "      <td>subject</td>\n",
       "      <td>Medication-nl-core-Vaccination-03-Pharmaceutic...</td>\n",
       "    </tr>\n",
       "  </tbody>\n",
       "</table>\n",
       "</div>"
      ],
      "text/plain": [
       "                                                   id patient        type  \\\n",
       "66   nl-core-AdministrationAgreement-01-Medication-01    None  Medication   \n",
       "67   nl-core-AdministrationAgreement-02-Medication-01    None  Medication   \n",
       "68   nl-core-AdministrationAgreement-03-Medication-01    None  Medication   \n",
       "69   nl-core-AdministrationAgreement-04-Medication-01    None  Medication   \n",
       "70           nl-core-DispenseRequest-01-Medication-01    None  Medication   \n",
       "71  nl-core-MedicationAdministration2-01-Medicatio...    None  Medication   \n",
       "72  nl-core-MedicationAdministration2-02-Medicatio...    None  Medication   \n",
       "73  nl-core-MedicationAdministration2-03-Medicatio...    None  Medication   \n",
       "74       nl-core-MedicationAgreement-01-Medication-01    None  Medication   \n",
       "75       nl-core-MedicationAgreement-02-Medication-01    None  Medication   \n",
       "76        nl-core-MedicationDispense-01-Medication-01    None  Medication   \n",
       "77        nl-core-MedicationDispense-02-Medication-01    None  Medication   \n",
       "78        nl-core-MedicationDispense-03-Medication-01    None  Medication   \n",
       "79        nl-core-MedicationDispense-04-Medication-01    None  Medication   \n",
       "80            nl-core-MedicationUse2-01-Medication-01    None  Medication   \n",
       "81                   nl-core-PharmaceuticalProduct-01    None  Medication   \n",
       "82                   nl-core-PharmaceuticalProduct-01    None  Medication   \n",
       "83                   nl-core-PharmaceuticalProduct-02    None  Medication   \n",
       "84                   nl-core-PharmaceuticalProduct-02    None  Medication   \n",
       "85    nl-core-Vaccination-03-PharmaceuticalProduct-01    None  Medication   \n",
       "\n",
       "     target                                               file  \n",
       "66  subject  Medication-nl-core-AdministrationAgreement-01-...  \n",
       "67  subject  Medication-nl-core-AdministrationAgreement-02-...  \n",
       "68  subject  Medication-nl-core-AdministrationAgreement-03-...  \n",
       "69  subject  Medication-nl-core-AdministrationAgreement-04-...  \n",
       "70  subject  Medication-nl-core-DispenseRequest-01-Medicati...  \n",
       "71  subject  Medication-nl-core-MedicationAdministration2-0...  \n",
       "72  subject  Medication-nl-core-MedicationAdministration2-0...  \n",
       "73  subject  Medication-nl-core-MedicationAdministration2-0...  \n",
       "74  subject  Medication-nl-core-MedicationAgreement-01-Medi...  \n",
       "75  subject  Medication-nl-core-MedicationAgreement-02-Medi...  \n",
       "76  subject  Medication-nl-core-MedicationDispense-01-Medic...  \n",
       "77  subject  Medication-nl-core-MedicationDispense-02-Medic...  \n",
       "78  subject  Medication-nl-core-MedicationDispense-03-Medic...  \n",
       "79  subject  Medication-nl-core-MedicationDispense-04-Medic...  \n",
       "80  subject  Medication-nl-core-MedicationUse2-01-Medicatio...  \n",
       "81  subject  Medication-nl-core-PharmaceuticalProduct-01--3...  \n",
       "82  subject  Medication-nl-core-PharmaceuticalProduct-01--4...  \n",
       "83  subject  Medication-nl-core-PharmaceuticalProduct-02--1...  \n",
       "84  subject  Medication-nl-core-PharmaceuticalProduct-02--4...  \n",
       "85  subject  Medication-nl-core-Vaccination-03-Pharmaceutic...  "
      ]
     },
     "execution_count": 3,
     "metadata": {},
     "output_type": "execute_result"
    }
   ],
   "source": [
    "df[df.patient == 'Patient/' + patientid]\n",
    "# df[['type', 'target']].drop_duplicates()\n",
    "df[df.type == \"Medication\"]"
   ]
  },
  {
   "cell_type": "markdown",
   "metadata": {},
   "source": [
    "- Define server\n",
    "- Create patient, see patientid above\n",
    "- Don't forget to point at the riht file for this patient"
   ]
  },
  {
   "cell_type": "code",
   "execution_count": 6,
   "metadata": {
    "tags": []
   },
   "outputs": [
    {
     "data": {
      "text/plain": [
       "(200, 'nl-core-Patient-01')"
      ]
     },
     "execution_count": 6,
     "metadata": {},
     "output_type": "execute_result"
    }
   ],
   "source": [
    "resource = \"Patient\"\n",
    "headers = {'Content-Type': 'application/json'}\n",
    "\n",
    "# with open(os.path.join(zibsr4, filename)) as f:\n",
    "with open(os.path.join(zibs, filename)) as f:\n",
    "    jsondata = json.load(f)\n",
    "resp = requests.put(base + \"Patient\" + \"/\" + patientid, data=json.dumps(jsondata), headers=headers)\n",
    "if resp.status_code not in (200, 201):\n",
    "    for issue in resp.json()[\"issue\"]:\n",
    "        print(issue)\n",
    "resp.status_code, resp.json()[\"id\"]"
   ]
  },
  {
   "cell_type": "markdown",
   "metadata": {},
   "source": [
    "- Create a list of resource types to submit, create those\n",
    "- Take care, resources are dependent on each other and have to be submitted in the right order\n",
    "- Needs a bit of tweaking and running multiple times, with the right resources submitted each time"
   ]
  },
  {
   "cell_type": "code",
   "execution_count": 7,
   "metadata": {
    "tags": []
   },
   "outputs": [
    {
     "data": {
      "text/plain": [
       "16"
      ]
     },
     "execution_count": 7,
     "metadata": {},
     "output_type": "execute_result"
    }
   ],
   "source": [
    "types = [\n",
    " # 'AllergyIntolerance',\n",
    " 'Condition',\n",
    " # 'Consent',\n",
    " # 'Coverage',\n",
    " # 'Device',\n",
    " # 'DeviceUseStatement',\n",
    " # 'Encounter',\n",
    " # 'Flag',\n",
    " #  'Immunization',\n",
    " #  'ImmunizationRecommendation',\n",
    " # 'Medication',\n",
    " # 'MedicationAdministration',\n",
    " # 'MedicationRequest',\n",
    " # 'MedicationStatement',\n",
    " # 'NutritionOrder',\n",
    "  # 'Observation',\n",
    " #  'Organization',\n",
    " #  'Practitioner',\n",
    " #  'PractitionerRole',\n",
    " #  'Procedure',\n",
    " # 'RelatedPerson',\n",
    " #   'Specimen'\n",
    "]\n",
    "# types = ['Device']\n",
    "# 'Consent' fails, if we add this then $summary gives an HAPI error.\n",
    "reslist = df[df.type.isin(types)].to_dict(orient=\"records\")\n",
    "len(reslist)"
   ]
  },
  {
   "cell_type": "markdown",
   "metadata": {},
   "source": [
    "For each entry in the resource list, create it"
   ]
  },
  {
   "cell_type": "code",
   "execution_count": 8,
   "metadata": {
    "tags": []
   },
   "outputs": [
    {
     "name": "stdout",
     "output_type": "stream",
     "text": [
      "200 Condition-nl-core-AdvanceDirective-01-Condition-01--30957904.json 1\n",
      "200 Condition-nl-core-CareTeam-01-Condition-01--40600350.json 2\n",
      "200 Condition-nl-core-CareTeam-01-Condition-02--64163473.json 3\n",
      "200 Condition-nl-core-CareTeam-01-Condition-03--59325057.json 4\n",
      "200 Condition-nl-core-FreedomRestrictingIntervention-01-Condition-01--15337269.json 5\n",
      "200 Condition-nl-core-LegalSituation-LegalStatus-01--30131813.json 6\n",
      "200 Condition-nl-core-LegalSituation-Representation-02--25717600.json 7\n",
      "200 Condition-nl-core-MedicalDevice-01-Condition-01--4085744.json 8\n",
      "200 Condition-nl-core-MedicalDevice-02-Condition-01--48932206.json 9\n",
      "200 Condition-nl-core-MedicalDevice-03-Condition-01--7954964.json 10\n",
      "200 Condition-nl-core-NutritionAdvice-01-Condition-01--3913996.json 11\n",
      "201 Condition-nl-core-Pregnancy-01--62855489.json 12\n",
      "200 Condition-nl-core-Procedure-01-Condition-01--26948044.json 13\n",
      "200 Condition-nl-core-SkinDisorder-01--49507636.json 14\n",
      "200 Condition-nl-core-SkinDisorder-01-Condition-01--42915540.json 15\n",
      "200 Condition-nl-core-Stoma-01--40893240.json 16\n",
      "Created 16 resources\n"
     ]
    }
   ],
   "source": [
    "success = 0\n",
    "for res in reslist:\n",
    "    with open(os.path.join(zibs, res[\"file\"])) as f:\n",
    "        jsondata = json.load(f)\n",
    "    create = requests.put(base + res[\"type\"] + \"/\" + res[\"id\"], data=json.dumps(jsondata), headers=headers)\n",
    "    if create.status_code not in (200, 201):\n",
    "        for issue in create.json()[\"issue\"]:\n",
    "            print(issue)\n",
    "    else:\n",
    "        success += 1\n",
    "        print(create.status_code, res[\"file\"], success)\n",
    "print('Created ' + str(success) + ' resources')"
   ]
  },
  {
   "cell_type": "markdown",
   "metadata": {},
   "source": [
    "- Get the patient summary, save it\n",
    "- Show errors if errors"
   ]
  },
  {
   "cell_type": "code",
   "execution_count": 11,
   "metadata": {
    "tags": []
   },
   "outputs": [
    {
     "name": "stdout",
     "output_type": "stream",
     "text": [
      "200\n"
     ]
    }
   ],
   "source": [
    "operation = '/$summary'\n",
    "resp = requests.get(base + 'Patient' + \"/\" + patientid + operation)\n",
    "with open('ips-' + patientid + '.json', 'w') as outfile:\n",
    "    outfile.write(json.dumps(resp.json()))\n",
    "if create.status_code not in (200, 201):\n",
    "    for issue in create.json()[\"issue\"]:\n",
    "        print(issue)\n",
    "else:\n",
    "    print(create.status_code)"
   ]
  },
  {
   "cell_type": "markdown",
   "metadata": {},
   "source": [
    "- Inspect the IPS if wanted"
   ]
  },
  {
   "cell_type": "code",
   "execution_count": 12,
   "metadata": {
    "tags": []
   },
   "outputs": [
    {
     "data": {
      "application/json": {
       "entry": [
        {
         "fullUrl": "urn:uuid:3898688c-df30-4d56-9c70-022e8a5cab0e",
         "resource": {
          "author": [
           {
            "reference": "urn:uuid:27e569d9-8a02-4fe4-99f5-1679da1b50ff"
           }
          ],
          "confidentiality": "N",
          "date": "2023-09-29T10:07:16.525+00:00",
          "resourceType": "Composition",
          "section": [
           {
            "code": {
             "coding": [
              {
               "code": "48765-2",
               "display": "Allergies and adverse reactions Document",
               "system": "http://loinc.org"
              }
             ]
            },
            "entry": [
             {
              "reference": "urn:uuid:a680e936-a35a-4c07-97ef-a403034ef88a"
             }
            ],
            "text": {
             "div": "<div xmlns=\"http://www.w3.org/1999/xhtml\"><table class=\"hapiPropertyTable\"><caption>Allergies And Intolerances</caption><thead><tr><th>Allergen</th><th>Status</th><th>Category</th><th>Reaction</th><th>Severity</th><th>Comments</th><th>Onset</th></tr></thead><tbody><tr id=\"AllergyIntolerance-urn:uuid:a680e936-a35a-4c07-97ef-a403034ef88a\"><td> Penicilline </td><td> active </td><td> MEDICATION </td><td> rode huiduitslag op armen </td><td> moderate </td><td> test toelichting </td><td>Sun Jan 01 00:00:00 UTC 1995</td></tr></tbody></table></div>",
             "status": "generated"
            },
            "title": "Allergies and Intolerances"
           },
           {
            "code": {
             "coding": [
              {
               "code": "10160-0",
               "display": "History of Medication use Narrative",
               "system": "http://loinc.org"
              }
             ]
            },
            "entry": [
             {
              "reference": "urn:uuid:848c2cfb-0560-4761-8745-e0120ee296c4"
             },
             {
              "reference": "urn:uuid:e2a330ac-084d-4c75-8295-8953f1340b32"
             },
             {
              "reference": "urn:uuid:a298394a-eae9-4ba7-8690-72d201ce5d6f"
             },
             {
              "reference": "urn:uuid:f00707a8-b5ee-4296-a4a0-6fdb050332f9"
             }
            ],
            "text": {
             "div": "<div xmlns=\"http://www.w3.org/1999/xhtml\"><table class=\"hapiPropertyTable\"><caption>Medication Summary: Medication Requests</caption><thead><tr><th>Medication</th><th>Status</th><th>Route</th><th>Sig</th><th>Comments</th><th>Authored Date</th></tr></thead><tbody><tr id=\"MedicationRequest-urn:uuid:e2a330ac-084d-4c75-8295-8953f1340b32\"><td> METOCLOPRAMIDE 20MG ZETPIL </td><td>Unknown</td><td></td><td></td><td></td><td>Mon Jul 13 00:00:00 UTC 2015</td></tr><tr id=\"MedicationRequest-urn:uuid:a298394a-eae9-4ba7-8690-72d201ce5d6f\"><td> LISINOPRIL 10MG TABLET </td><td>Unknown</td><td></td><td></td><td></td><td>Thu Sep 08 16:00:00 UTC 2016</td></tr><tr id=\"MedicationRequest-urn:uuid:f00707a8-b5ee-4296-a4a0-6fdb050332f9\"><td> METHOTREXAAT INJVLST 15MG/0,6ML(25MG/ML) WWSP PA </td><td>Unknown</td><td></td><td></td><td></td><td>Sun Mar 06 08:12:30 UTC 2016</td></tr></tbody></table><table class=\"hapiPropertyTable\"><caption>Medication Summary: Medication Statements</caption><thead><tr><th>Medication</th><th>Status</th><th>Route</th><th>Sig</th><th>Date</th></tr></thead><tbody><tr id=\"MedicationStatement-urn:uuid:848c2cfb-0560-4761-8745-e0120ee296c4\"><td> PANTOPRAZOL 40MG INJPDR </td><td>Active</td><td></td><td></td><td></td></tr></tbody></table></div>",
             "status": "generated"
            },
            "title": "Medication List"
           },
           {
            "code": {
             "coding": [
              {
               "code": "11450-4",
               "display": "Problem list - Reported",
               "system": "http://loinc.org"
              }
             ]
            },
            "entry": [
             {
              "reference": "urn:uuid:5048222b-af51-44f2-aeac-2e18a41a643a"
             },
             {
              "reference": "urn:uuid:0c5bb4e1-8cb4-489c-8723-bd4c3eaa1812"
             },
             {
              "reference": "urn:uuid:53f0e429-e8dc-4481-9975-84000b1c6eab"
             },
             {
              "reference": "urn:uuid:6fa73a5d-c8b3-459b-9218-e1ebd4cfa2bc"
             },
             {
              "reference": "urn:uuid:958ecb9f-300a-4820-a4e2-ed0d56aae9fa"
             },
             {
              "reference": "urn:uuid:caba424e-4d7e-41b5-bf96-d7d38219bf54"
             },
             {
              "reference": "urn:uuid:34064a3c-04d7-4145-adb7-e190cfe06127"
             },
             {
              "reference": "urn:uuid:e04ef9e8-13c3-4925-9705-5c298b940ddc"
             },
             {
              "reference": "urn:uuid:762d22ad-ad90-4e9a-8870-bad694cd2618"
             },
             {
              "reference": "urn:uuid:392d5050-dfc8-494c-bd8e-f0291b837618"
             },
             {
              "reference": "urn:uuid:eae3b0a2-9c9e-4a2c-bfe7-d5edb143fedd"
             },
             {
              "reference": "urn:uuid:d22d2376-e553-405f-966e-d2abac7f3e5b"
             }
            ],
            "text": {
             "div": "<div xmlns=\"http://www.w3.org/1999/xhtml\"><table class=\"hapiPropertyTable\"><caption>Problem List</caption><thead><tr><th>Medical Problems</th><th>Status</th><th>Comments</th><th>Onset Date</th></tr></thead><tbody><tr id=\"Condition-urn:uuid:5048222b-af51-44f2-aeac-2e18a41a643a\"><td> amyotrofische laterale sclerose </td><td> active </td><td></td><td></td></tr><tr id=\"Condition-urn:uuid:0c5bb4e1-8cb4-489c-8723-bd4c3eaa1812\"><td> vasculaire dementie </td><td> active </td><td> De laatste weken erg onrustig in de nacht </td><td></td></tr><tr id=\"Condition-urn:uuid:53f0e429-e8dc-4481-9975-84000b1c6eab\"><td> Hartfalen </td><td> active </td><td> Houdt veel vocht vast, kortademig </td><td></td></tr><tr id=\"Condition-urn:uuid:6fa73a5d-c8b3-459b-9218-e1ebd4cfa2bc\"><td> Geneesmiddel-interacties </td><td> active </td><td> Huiduitslag met veel jeuk door medicatie </td><td></td></tr><tr id=\"Condition-urn:uuid:958ecb9f-300a-4820-a4e2-ed0d56aae9fa\"><td> Voogdij </td><td> active </td><td></td><td></td></tr><tr id=\"Condition-urn:uuid:caba424e-4d7e-41b5-bf96-d7d38219bf54\"><td> Multiple sclerose </td><td> active </td><td></td><td></td></tr><tr id=\"Condition-urn:uuid:34064a3c-04d7-4145-adb7-e190cfe06127\"><td> Presbyacusis </td><td> active </td><td></td><td></td></tr><tr id=\"Condition-urn:uuid:e04ef9e8-13c3-4925-9705-5c298b940ddc\"><td> Paroxismaal boezemfibrilleren </td><td> active </td><td></td><td></td></tr><tr id=\"Condition-urn:uuid:762d22ad-ad90-4e9a-8870-bad694cd2618\"><td> abnormaal gewichtsverlies </td><td> active </td><td></td><td></td></tr><tr id=\"Condition-urn:uuid:392d5050-dfc8-494c-bd8e-f0291b837618\"><td> bevinding betreffende zwangerschap </td><td> active </td><td> Mevrouw is vaak misselijk in de ochtend. </td><td></td></tr><tr id=\"Condition-urn:uuid:eae3b0a2-9c9e-4a2c-bfe7-d5edb143fedd\"><td> Artrose </td><td> active </td><td> Beperking bij het bewegen van het gewricht, drukpijn door slijtage van twee compartimenten van de linker knie. </td><td></td></tr><tr id=\"Condition-urn:uuid:d22d2376-e553-405f-966e-d2abac7f3e5b\"><td> eindstandig colostoma </td><td> active </td><td> PatiÃ«nt heeft veel last van dit type stoma. </td><td> Wed Jan 01 00:00:00 UTC 2014 </td></tr></tbody></table></div>",
             "status": "generated"
            },
            "title": "Problem List"
           },
           {
            "code": {
             "coding": [
              {
               "code": "47519-4",
               "display": "History of Procedures Document",
               "system": "http://loinc.org"
              }
             ]
            },
            "entry": [
             {
              "reference": "urn:uuid:fb193865-18fe-4eab-9118-29c4aa33afa9"
             },
             {
              "reference": "urn:uuid:d0edb020-b78d-40c8-98b4-b936ae486508"
             }
            ],
            "text": {
             "div": "<div xmlns=\"http://www.w3.org/1999/xhtml\"><table class=\"hapiPropertyTable\"><caption>History Of Procedures</caption><thead><tr><th>Procedure</th><th>Comments</th><th>Date</th></tr></thead><tbody><tr id=\"Procedure-urn:uuid:fb193865-18fe-4eab-9118-29c4aa33afa9\"><td> Placing restraint using limb restraint </td><td></td><td> Wed May 01 00:00:00 UTC 2019-Sun May 05 00:00:00 UTC 2019 </td></tr><tr id=\"Procedure-urn:uuid:d0edb020-b78d-40c8-98b4-b936ae486508\"><td> implantatie van totale knieprothese </td><td></td><td></td></tr></tbody></table></div>",
             "status": "generated"
            },
            "title": "History of Procedures"
           },
           {
            "code": {
             "coding": [
              {
               "code": "46264-8",
               "display": "History of medical device use",
               "system": "http://loinc.org"
              }
             ]
            },
            "entry": [
             {
              "reference": "urn:uuid:87b7bb8b-5875-4ebe-bb36-f5c5c136860c"
             },
             {
              "reference": "urn:uuid:d06e7c55-5215-43c6-a24c-6a282c300380"
             },
             {
              "reference": "urn:uuid:b5a6a499-7c04-48b1-887e-a9006309d2e7"
             },
             {
              "reference": "urn:uuid:75aa1407-651b-4b1b-9f89-0e7d48917ced"
             },
             {
              "reference": "urn:uuid:f4549d6e-c124-4404-b2f7-951022402755"
             },
             {
              "reference": "urn:uuid:090cc4b6-cdea-45be-940d-d4a740b2b482"
             },
             {
              "reference": "urn:uuid:7108e2fd-7baf-46cd-ae16-9b78a350e24d"
             },
             {
              "reference": "urn:uuid:e0d826e2-3935-419f-854e-1522d3e63fcd"
             }
            ],
            "text": {
             "div": "<div xmlns=\"http://www.w3.org/1999/xhtml\"><table class=\"hapiPropertyTable\"><caption>Medical Devices</caption><thead><tr><th>Device</th><th>Status</th><th>Comments</th><th>Date Recorded</th></tr></thead><tbody><tr id=\"DeviceUseStatement-urn:uuid:87b7bb8b-5875-4ebe-bb36-f5c5c136860c\"><td> elektrisch scheerapparaat </td><td>ACTIVE</td><td></td><td></td></tr><tr id=\"DeviceUseStatement-urn:uuid:d06e7c55-5215-43c6-a24c-6a282c300380\"><td> rolstoel </td><td>ACTIVE</td><td> Kan korte afstanden lopen </td><td></td></tr><tr id=\"DeviceUseStatement-urn:uuid:b5a6a499-7c04-48b1-887e-a9006309d2e7\"><td> gehoorapparaat </td><td>COMPLETED</td><td> Apparaat niet zichtbaar (diep in de gehooringang) </td><td></td></tr><tr id=\"DeviceUseStatement-urn:uuid:75aa1407-651b-4b1b-9f89-0e7d48917ced\"><td> pacemaker </td><td>ACTIVE</td><td> Laatst doorgemeten in 2011 </td><td></td></tr><tr id=\"DeviceUseStatement-urn:uuid:f4549d6e-c124-4404-b2f7-951022402755\"><td> Rollator </td><td>ACTIVE</td><td></td><td></td></tr><tr id=\"DeviceUseStatement-urn:uuid:090cc4b6-cdea-45be-940d-d4a740b2b482\"><td></td><td>ACTIVE</td><td></td><td></td></tr><tr id=\"DeviceUseStatement-urn:uuid:7108e2fd-7baf-46cd-ae16-9b78a350e24d\"><td> Stomazak </td><td>ACTIVE</td><td></td><td></td></tr><tr id=\"DeviceUseStatement-urn:uuid:e0d826e2-3935-419f-854e-1522d3e63fcd\"><td> Enkelfocale leesbril </td><td>ACTIVE</td><td></td><td></td></tr></tbody></table></div>",
             "status": "generated"
            },
            "title": "Medical Devices"
           },
           {
            "code": {
             "coding": [
              {
               "code": "30954-2",
               "display": "Relevant diagnostic tests/laboratory data Narrative",
               "system": "http://loinc.org"
              }
             ]
            },
            "entry": [
             {
              "reference": "urn:uuid:6d20b8a3-d164-4118-9179-ad6bd3802153"
             },
             {
              "reference": "urn:uuid:e4f6a4ac-1c07-4779-9581-d4a0201c41a5"
             },
             {
              "reference": "urn:uuid:eace9807-27e7-4678-bdee-26fd9501b9a5"
             },
             {
              "reference": "urn:uuid:cdf7de10-e357-47f1-9943-df12a07baa7d"
             },
             {
              "reference": "urn:uuid:a01671ef-c342-49ba-b136-61317e9235e6"
             }
            ],
            "text": {
             "div": "<div xmlns=\"http://www.w3.org/1999/xhtml\"><table class=\"hapiPropertyTable\"><caption>Diagnostic Results: Observations</caption><thead><tr><th>Code</th><th>Result</th><th>Unit</th><th>Interpretation</th><th>Reference Range</th><th>Comments</th><th>Date</th></tr></thead><tbody><tr id=\"Observation-urn:uuid:6d20b8a3-d164-4118-9179-ad6bd3802153\"><td> Sodium [Moles/volume] in Blood </td><td> 138 </td><td> mmol/l </td><td></td><td> 136-146 </td><td></td><td> Sat Jun 12 11:15:00 UTC 2021 </td></tr><tr id=\"Observation-urn:uuid:e4f6a4ac-1c07-4779-9581-d4a0201c41a5\"><td> Hepatitis A virus IgM Ab [Presence] in Serum </td><td> hepatitis A-test negatief </td><td></td><td></td><td></td><td></td><td> Mon Jan 16 10:12:00 UTC 2012 </td></tr><tr id=\"Observation-urn:uuid:eace9807-27e7-4678-bdee-26fd9501b9a5\"><td> Hemoglobine </td><td> 11.5 </td><td> mmol/l </td><td> Onder referentiebereik </td><td> 12.0-16.0 </td><td></td><td> Sun Jan 02 11:00:00 UTC 2022 </td></tr><tr id=\"Observation-urn:uuid:cdf7de10-e357-47f1-9943-df12a07baa7d\"><td> Hematocriet </td><td> 45 </td><td> % </td><td></td><td> 39-51 </td><td></td><td> Sun Jan 02 11:00:02 UTC 2022 </td></tr><tr id=\"Observation-urn:uuid:a01671ef-c342-49ba-b136-61317e9235e6\"><td> hemoglobine &amp; hematocriet panel </td><td></td><td></td><td></td><td></td><td></td><td></td></tr></tbody></table><table class=\"hapiPropertyTable\"><caption>Diagnostic Results: Diagnostic Reports</caption><thead><tr><th>Code</th><th>Date</th></tr></thead><tbody></tbody></table></div>",
             "status": "generated"
            },
            "title": "Diagnostic Results"
           },
           {
            "code": {
             "coding": [
              {
               "code": "8716-3",
               "display": "Vital signs",
               "system": "http://loinc.org"
              }
             ]
            },
            "entry": [
             {
              "reference": "urn:uuid:df810fa6-672f-4f99-a486-af377fb3fa10"
             },
             {
              "reference": "urn:uuid:693c48cc-9999-4ec3-80ee-45b35adee6f4"
             },
             {
              "reference": "urn:uuid:6dcaa528-3206-49a4-8197-75270744aad7"
             },
             {
              "reference": "urn:uuid:f7a75155-0956-4936-9730-a4d678295d52"
             },
             {
              "reference": "urn:uuid:657f29e3-3f2b-4c25-88a7-f3a390dc1760"
             },
             {
              "reference": "urn:uuid:26e3f779-2306-400e-a0e7-6ec4b96ca9e2"
             },
             {
              "reference": "urn:uuid:32df6424-3501-49e9-86a6-03726ffdfd94"
             },
             {
              "reference": "urn:uuid:b4b9e6e6-ee8a-4190-93eb-0e784ddfc0d0"
             }
            ],
            "text": {
             "div": "<div xmlns=\"http://www.w3.org/1999/xhtml\"><table class=\"hapiPropertyTable\"><caption>Vital Signs</caption><thead><tr><th>Code</th><th>Result</th><th>Unit</th><th>Interpretation</th><th>Comments</th><th>Date</th></tr></thead><tbody><tr id=\"Observation-urn:uuid:df810fa6-672f-4f99-a486-af377fb3fa10\"><td> Blood pressure panel with all children optional </td><td></td><td></td><td></td><td> Fri Feb 08 05:43:00 UTC 2013 </td></tr><tr id=\"Observation-urn:uuid:693c48cc-9999-4ec3-80ee-45b35adee6f4\"><td> Body height </td><td> 153 </td><td> cm </td><td> Met schoenen aan </td><td> Fri Feb 08 05:43:00 UTC 2013 </td></tr><tr id=\"Observation-urn:uuid:6dcaa528-3206-49a4-8197-75270744aad7\"><td> Body temperature <br/> Tympanische temperatuur </td><td> 38.6 </td><td> Cel </td><td> Voeten voelen heel koud aan </td><td> Fri Feb 08 04:43:00 UTC 2013 </td></tr><tr id=\"Observation-urn:uuid:f7a75155-0956-4936-9730-a4d678295d52\"><td> Body weight </td><td> 2400 </td><td> gram </td><td> Luier woog 320 gram </td><td> Wed Feb 06 00:00:00 UTC 2013 </td></tr><tr id=\"Observation-urn:uuid:657f29e3-3f2b-4c25-88a7-f3a390dc1760\"><td> Head Occipital-frontal circumference </td><td> 41 </td><td> cm </td><td> Gemeten bij 3 maanden </td><td> Tue Jun 22 00:00:00 UTC 2021 </td></tr><tr id=\"Observation-urn:uuid:26e3f779-2306-400e-a0e7-6ec4b96ca9e2\"><td> Heart rate </td><td> 126 </td><td> /min </td><td> Misschien bigeminie? </td><td> Fri Feb 08 04:43:00 UTC 2013 </td></tr><tr id=\"Observation-urn:uuid:32df6424-3501-49e9-86a6-03726ffdfd94\"><td> Oxygen saturation in Arterial blood <br/> Oxygen saturation in Arterial blood by Pulse oximetry </td><td> 92 </td><td> % </td><td> Stijgt snel bij aanspreken </td><td> Fri Feb 08 04:43:00 UTC 2013 </td></tr><tr id=\"Observation-urn:uuid:b4b9e6e6-ee8a-4190-93eb-0e784ddfc0d0\"><td> Heart rate Peripheral artery by palpation </td><td> 50 </td><td> /min </td><td> Sportvrouw </td><td> Fri Feb 08 05:43:00 UTC 2013 </td></tr></tbody></table></div>",
             "status": "generated"
            },
            "title": "Vital Signs"
           },
           {
            "code": {
             "coding": [
              {
               "code": "11348-0",
               "display": "History of Past illness Narrative",
               "system": "http://loinc.org"
              }
             ]
            },
            "entry": [
             {
              "reference": "urn:uuid:b6f54ce1-76d3-4f69-a130-8209fe818794"
             },
             {
              "reference": "urn:uuid:4c61a4af-3ddd-4a9f-9f80-24948cada6ff"
             },
             {
              "reference": "urn:uuid:1949d5b8-6504-431b-905e-e8778628fe67"
             },
             {
              "reference": "urn:uuid:8b96b92e-5d54-4e5c-a9a0-ef0ca2e1dd94"
             }
            ],
            "text": {
             "status": "generated"
            },
            "title": "History of Past Illness"
           },
           {
            "code": {
             "coding": [
              {
               "code": "42348-3",
               "display": "Advance directives",
               "system": "http://loinc.org"
              }
             ]
            },
            "entry": [
             {
              "reference": "urn:uuid:24a4ce03-010c-4738-a52e-a2ffd5da99e3"
             },
             {
              "reference": "urn:uuid:52908a34-bb07-45ae-b076-407571e8c155"
             }
            ],
            "text": {
             "div": "<div xmlns=\"http://www.w3.org/1999/xhtml\"><table class=\"hapiPropertyTable\"><caption>Advance Directives</caption><thead><tr><th>Scope</th><th>Status</th><th>Action Controlled</th><th>Date</th></tr></thead><tbody><tr id=\"Consent-urn:uuid:24a4ce03-010c-4738-a52e-a2ffd5da99e3\"><td> Advanced Care Directive </td><td>Active</td><td></td><td>Mon Aug 15 00:00:00 UTC 2011</td></tr><tr id=\"Consent-urn:uuid:52908a34-bb07-45ae-b076-407571e8c155\"><td> Advanced Care Directive </td><td>Active</td><td></td><td>Thu May 06 00:00:00 UTC 2010</td></tr></tbody></table></div>",
             "status": "generated"
            },
            "title": "Advance Directives"
           }
          ],
          "status": "final",
          "subject": {
           "reference": "urn:uuid:1691dac6-9e84-4767-8b4f-7b151539d755"
          },
          "text": {
           "div": "<div xmlns=\"http://www.w3.org/1999/xhtml\"><div><h1>Allergies and Intolerances</h1><div><div><table class=\"hapiPropertyTable\"><caption>Allergies And Intolerances</caption><thead><tr><th>Allergen</th><th>Status</th><th>Category</th><th>Reaction</th><th>Severity</th><th>Comments</th><th>Onset</th></tr></thead><tbody><tr id=\"AllergyIntolerance-urn:uuid:a680e936-a35a-4c07-97ef-a403034ef88a\"><td> Penicilline </td><td> active </td><td> MEDICATION </td><td> rode huiduitslag op armen </td><td> moderate </td><td> test toelichting </td><td>Sun Jan 01 00:00:00 UTC 1995</td></tr></tbody></table></div></div></div><div><h1>Medication List</h1><div><div><table class=\"hapiPropertyTable\"><caption>Medication Summary: Medication Requests</caption><thead><tr><th>Medication</th><th>Status</th><th>Route</th><th>Sig</th><th>Comments</th><th>Authored Date</th></tr></thead><tbody><tr id=\"MedicationRequest-urn:uuid:e2a330ac-084d-4c75-8295-8953f1340b32\"><td> METOCLOPRAMIDE 20MG ZETPIL </td><td>Unknown</td><td></td><td></td><td></td><td>Mon Jul 13 00:00:00 UTC 2015</td></tr><tr id=\"MedicationRequest-urn:uuid:a298394a-eae9-4ba7-8690-72d201ce5d6f\"><td> LISINOPRIL 10MG TABLET </td><td>Unknown</td><td></td><td></td><td></td><td>Thu Sep 08 16:00:00 UTC 2016</td></tr><tr id=\"MedicationRequest-urn:uuid:f00707a8-b5ee-4296-a4a0-6fdb050332f9\"><td> METHOTREXAAT INJVLST 15MG/0,6ML(25MG/ML) WWSP PA </td><td>Unknown</td><td></td><td></td><td></td><td>Sun Mar 06 08:12:30 UTC 2016</td></tr></tbody></table><table class=\"hapiPropertyTable\"><caption>Medication Summary: Medication Statements</caption><thead><tr><th>Medication</th><th>Status</th><th>Route</th><th>Sig</th><th>Date</th></tr></thead><tbody><tr id=\"MedicationStatement-urn:uuid:848c2cfb-0560-4761-8745-e0120ee296c4\"><td> PANTOPRAZOL 40MG INJPDR </td><td>Active</td><td></td><td></td><td></td></tr></tbody></table></div></div></div><div><h1>Problem List</h1><div><div><table class=\"hapiPropertyTable\"><caption>Problem List</caption><thead><tr><th>Medical Problems</th><th>Status</th><th>Comments</th><th>Onset Date</th></tr></thead><tbody><tr id=\"Condition-urn:uuid:5048222b-af51-44f2-aeac-2e18a41a643a\"><td> amyotrofische laterale sclerose </td><td> active </td><td></td><td></td></tr><tr id=\"Condition-urn:uuid:0c5bb4e1-8cb4-489c-8723-bd4c3eaa1812\"><td> vasculaire dementie </td><td> active </td><td> De laatste weken erg onrustig in de nacht </td><td></td></tr><tr id=\"Condition-urn:uuid:53f0e429-e8dc-4481-9975-84000b1c6eab\"><td> Hartfalen </td><td> active </td><td> Houdt veel vocht vast, kortademig </td><td></td></tr><tr id=\"Condition-urn:uuid:6fa73a5d-c8b3-459b-9218-e1ebd4cfa2bc\"><td> Geneesmiddel-interacties </td><td> active </td><td> Huiduitslag met veel jeuk door medicatie </td><td></td></tr><tr id=\"Condition-urn:uuid:958ecb9f-300a-4820-a4e2-ed0d56aae9fa\"><td> Voogdij </td><td> active </td><td></td><td></td></tr><tr id=\"Condition-urn:uuid:caba424e-4d7e-41b5-bf96-d7d38219bf54\"><td> Multiple sclerose </td><td> active </td><td></td><td></td></tr><tr id=\"Condition-urn:uuid:34064a3c-04d7-4145-adb7-e190cfe06127\"><td> Presbyacusis </td><td> active </td><td></td><td></td></tr><tr id=\"Condition-urn:uuid:e04ef9e8-13c3-4925-9705-5c298b940ddc\"><td> Paroxismaal boezemfibrilleren </td><td> active </td><td></td><td></td></tr><tr id=\"Condition-urn:uuid:762d22ad-ad90-4e9a-8870-bad694cd2618\"><td> abnormaal gewichtsverlies </td><td> active </td><td></td><td></td></tr><tr id=\"Condition-urn:uuid:392d5050-dfc8-494c-bd8e-f0291b837618\"><td> bevinding betreffende zwangerschap </td><td> active </td><td> Mevrouw is vaak misselijk in de ochtend. </td><td></td></tr><tr id=\"Condition-urn:uuid:eae3b0a2-9c9e-4a2c-bfe7-d5edb143fedd\"><td> Artrose </td><td> active </td><td> Beperking bij het bewegen van het gewricht, drukpijn door slijtage van twee compartimenten van de linker knie. </td><td></td></tr><tr id=\"Condition-urn:uuid:d22d2376-e553-405f-966e-d2abac7f3e5b\"><td> eindstandig colostoma </td><td> active </td><td> PatiÃ«nt heeft veel last van dit type stoma. </td><td> Wed Jan 01 00:00:00 UTC 2014 </td></tr></tbody></table></div></div></div><div><h1>History of Procedures</h1><div><div><table class=\"hapiPropertyTable\"><caption>History Of Procedures</caption><thead><tr><th>Procedure</th><th>Comments</th><th>Date</th></tr></thead><tbody><tr id=\"Procedure-urn:uuid:fb193865-18fe-4eab-9118-29c4aa33afa9\"><td> Placing restraint using limb restraint </td><td></td><td> Wed May 01 00:00:00 UTC 2019-Sun May 05 00:00:00 UTC 2019 </td></tr><tr id=\"Procedure-urn:uuid:d0edb020-b78d-40c8-98b4-b936ae486508\"><td> implantatie van totale knieprothese </td><td></td><td></td></tr></tbody></table></div></div></div><div><h1>Medical Devices</h1><div><div><table class=\"hapiPropertyTable\"><caption>Medical Devices</caption><thead><tr><th>Device</th><th>Status</th><th>Comments</th><th>Date Recorded</th></tr></thead><tbody><tr id=\"DeviceUseStatement-urn:uuid:87b7bb8b-5875-4ebe-bb36-f5c5c136860c\"><td> elektrisch scheerapparaat </td><td>ACTIVE</td><td></td><td></td></tr><tr id=\"DeviceUseStatement-urn:uuid:d06e7c55-5215-43c6-a24c-6a282c300380\"><td> rolstoel </td><td>ACTIVE</td><td> Kan korte afstanden lopen </td><td></td></tr><tr id=\"DeviceUseStatement-urn:uuid:b5a6a499-7c04-48b1-887e-a9006309d2e7\"><td> gehoorapparaat </td><td>COMPLETED</td><td> Apparaat niet zichtbaar (diep in de gehooringang) </td><td></td></tr><tr id=\"DeviceUseStatement-urn:uuid:75aa1407-651b-4b1b-9f89-0e7d48917ced\"><td> pacemaker </td><td>ACTIVE</td><td> Laatst doorgemeten in 2011 </td><td></td></tr><tr id=\"DeviceUseStatement-urn:uuid:f4549d6e-c124-4404-b2f7-951022402755\"><td> Rollator </td><td>ACTIVE</td><td></td><td></td></tr><tr id=\"DeviceUseStatement-urn:uuid:090cc4b6-cdea-45be-940d-d4a740b2b482\"><td></td><td>ACTIVE</td><td></td><td></td></tr><tr id=\"DeviceUseStatement-urn:uuid:7108e2fd-7baf-46cd-ae16-9b78a350e24d\"><td> Stomazak </td><td>ACTIVE</td><td></td><td></td></tr><tr id=\"DeviceUseStatement-urn:uuid:e0d826e2-3935-419f-854e-1522d3e63fcd\"><td> Enkelfocale leesbril </td><td>ACTIVE</td><td></td><td></td></tr></tbody></table></div></div></div><div><h1>Diagnostic Results</h1><div><div><table class=\"hapiPropertyTable\"><caption>Diagnostic Results: Observations</caption><thead><tr><th>Code</th><th>Result</th><th>Unit</th><th>Interpretation</th><th>Reference Range</th><th>Comments</th><th>Date</th></tr></thead><tbody><tr id=\"Observation-urn:uuid:6d20b8a3-d164-4118-9179-ad6bd3802153\"><td> Sodium [Moles/volume] in Blood </td><td> 138 </td><td> mmol/l </td><td></td><td> 136-146 </td><td></td><td> Sat Jun 12 11:15:00 UTC 2021 </td></tr><tr id=\"Observation-urn:uuid:e4f6a4ac-1c07-4779-9581-d4a0201c41a5\"><td> Hepatitis A virus IgM Ab [Presence] in Serum </td><td> hepatitis A-test negatief </td><td></td><td></td><td></td><td></td><td> Mon Jan 16 10:12:00 UTC 2012 </td></tr><tr id=\"Observation-urn:uuid:eace9807-27e7-4678-bdee-26fd9501b9a5\"><td> Hemoglobine </td><td> 11.5 </td><td> mmol/l </td><td> Onder referentiebereik </td><td> 12.0-16.0 </td><td></td><td> Sun Jan 02 11:00:00 UTC 2022 </td></tr><tr id=\"Observation-urn:uuid:cdf7de10-e357-47f1-9943-df12a07baa7d\"><td> Hematocriet </td><td> 45 </td><td> % </td><td></td><td> 39-51 </td><td></td><td> Sun Jan 02 11:00:02 UTC 2022 </td></tr><tr id=\"Observation-urn:uuid:a01671ef-c342-49ba-b136-61317e9235e6\"><td> hemoglobine &amp; hematocriet panel </td><td></td><td></td><td></td><td></td><td></td><td></td></tr></tbody></table><table class=\"hapiPropertyTable\"><caption>Diagnostic Results: Diagnostic Reports</caption><thead><tr><th>Code</th><th>Date</th></tr></thead><tbody></tbody></table></div></div></div><div><h1>Vital Signs</h1><div><div><table class=\"hapiPropertyTable\"><caption>Vital Signs</caption><thead><tr><th>Code</th><th>Result</th><th>Unit</th><th>Interpretation</th><th>Comments</th><th>Date</th></tr></thead><tbody><tr id=\"Observation-urn:uuid:df810fa6-672f-4f99-a486-af377fb3fa10\"><td> Blood pressure panel with all children optional </td><td></td><td></td><td></td><td> Fri Feb 08 05:43:00 UTC 2013 </td></tr><tr id=\"Observation-urn:uuid:693c48cc-9999-4ec3-80ee-45b35adee6f4\"><td> Body height </td><td> 153 </td><td> cm </td><td> Met schoenen aan </td><td> Fri Feb 08 05:43:00 UTC 2013 </td></tr><tr id=\"Observation-urn:uuid:6dcaa528-3206-49a4-8197-75270744aad7\"><td> Body temperature <br/> Tympanische temperatuur </td><td> 38.6 </td><td> Cel </td><td> Voeten voelen heel koud aan </td><td> Fri Feb 08 04:43:00 UTC 2013 </td></tr><tr id=\"Observation-urn:uuid:f7a75155-0956-4936-9730-a4d678295d52\"><td> Body weight </td><td> 2400 </td><td> gram </td><td> Luier woog 320 gram </td><td> Wed Feb 06 00:00:00 UTC 2013 </td></tr><tr id=\"Observation-urn:uuid:657f29e3-3f2b-4c25-88a7-f3a390dc1760\"><td> Head Occipital-frontal circumference </td><td> 41 </td><td> cm </td><td> Gemeten bij 3 maanden </td><td> Tue Jun 22 00:00:00 UTC 2021 </td></tr><tr id=\"Observation-urn:uuid:26e3f779-2306-400e-a0e7-6ec4b96ca9e2\"><td> Heart rate </td><td> 126 </td><td> /min </td><td> Misschien bigeminie? </td><td> Fri Feb 08 04:43:00 UTC 2013 </td></tr><tr id=\"Observation-urn:uuid:32df6424-3501-49e9-86a6-03726ffdfd94\"><td> Oxygen saturation in Arterial blood <br/> Oxygen saturation in Arterial blood by Pulse oximetry </td><td> 92 </td><td> % </td><td> Stijgt snel bij aanspreken </td><td> Fri Feb 08 04:43:00 UTC 2013 </td></tr><tr id=\"Observation-urn:uuid:b4b9e6e6-ee8a-4190-93eb-0e784ddfc0d0\"><td> Heart rate Peripheral artery by palpation </td><td> 50 </td><td> /min </td><td> Sportvrouw </td><td> Fri Feb 08 05:43:00 UTC 2013 </td></tr></tbody></table></div></div></div><div><h1>History of Past Illness</h1><div></div></div><div><h1>Advance Directives</h1><div><div><table class=\"hapiPropertyTable\"><caption>Advance Directives</caption><thead><tr><th>Scope</th><th>Status</th><th>Action Controlled</th><th>Date</th></tr></thead><tbody><tr id=\"Consent-urn:uuid:24a4ce03-010c-4738-a52e-a2ffd5da99e3\"><td> Advanced Care Directive </td><td>Active</td><td></td><td>Mon Aug 15 00:00:00 UTC 2011</td></tr><tr id=\"Consent-urn:uuid:52908a34-bb07-45ae-b076-407571e8c155\"><td> Advanced Care Directive </td><td>Active</td><td></td><td>Thu May 06 00:00:00 UTC 2010</td></tr></tbody></table></div></div></div></div>",
           "status": "generated"
          },
          "title": "Patient Summary as of 09/29/2023",
          "type": {
           "coding": [
            {
             "code": "60591-5",
             "display": "Patient Summary Document",
             "system": "http://loinc.org"
            }
           ]
          }
         }
        },
        {
         "fullUrl": "urn:uuid:1691dac6-9e84-4767-8b4f-7b151539d755",
         "resource": {
          "_gender": {
           "extension": [
            {
             "url": "http://nictiz.nl/fhir/StructureDefinition/ext-CodeSpecification",
             "valueCodeableConcept": {
              "coding": [
               {
                "code": "F",
                "display": "Female",
                "system": "http://terminology.hl7.org/CodeSystem/v3-AdministrativeGender"
               }
              ]
             }
            }
           ]
          },
          "address": [
           {
            "_country": {
             "extension": [
              {
               "url": "http://nictiz.nl/fhir/StructureDefinition/ext-CodeSpecification",
               "valueCodeableConcept": {
                "coding": [
                 {
                  "code": "NL",
                  "display": "Nederland",
                  "system": "urn:iso:std:iso:3166",
                  "version": "2020-10-26T00:00:00"
                 }
                ]
               }
              }
             ]
            },
            "_line": [
             {
              "extension": [
               {
                "url": "http://hl7.org/fhir/StructureDefinition/iso21090-ADXP-streetName",
                "valueString": "1e Jacob van Campenstr"
               },
               {
                "url": "http://hl7.org/fhir/StructureDefinition/iso21090-ADXP-houseNumber",
                "valueString": "15"
               }
              ]
             }
            ],
            "city": "Hoogmade",
            "country": "Nederland",
            "district": "Kaag en Braassem",
            "extension": [
             {
              "url": "http://nictiz.nl/fhir/StructureDefinition/ext-AddressInformation.AddressType",
              "valueCodeableConcept": {
               "coding": [
                {
                 "code": "HP",
                 "display": "Primary Home",
                 "system": "http://terminology.hl7.org/CodeSystem/v3-AddressUse"
                }
               ]
              }
             }
            ],
            "line": [
             "1e Jacob van Campenstr 15"
            ],
            "postalCode": "1012 NX",
            "type": "both",
            "use": "home"
           }
          ],
          "birthDate": "1934-04-28",
          "communication": [
           {
            "extension": [
             {
              "extension": [
               {
                "url": "level",
                "valueCoding": {
                 "code": "G",
                 "display": "Good",
                 "system": "http://terminology.hl7.org/CodeSystem/v3-LanguageAbilityProficiency"
                }
               },
               {
                "url": "type",
                "valueCoding": {
                 "code": "RSP",
                 "display": "Received spoken",
                 "system": "http://terminology.hl7.org/CodeSystem/v3-LanguageAbilityMode"
                }
               }
              ],
              "url": "http://hl7.org/fhir/StructureDefinition/patient-proficiency"
             },
             {
              "extension": [
               {
                "url": "level",
                "valueCoding": {
                 "code": "F",
                 "display": "Fair",
                 "system": "http://terminology.hl7.org/CodeSystem/v3-LanguageAbilityProficiency"
                }
               },
               {
                "url": "type",
                "valueCoding": {
                 "code": "ESP",
                 "display": "Expressed spoken",
                 "system": "http://terminology.hl7.org/CodeSystem/v3-LanguageAbilityMode"
                }
               }
              ],
              "url": "http://hl7.org/fhir/StructureDefinition/patient-proficiency"
             },
             {
              "extension": [
               {
                "url": "level",
                "valueCoding": {
                 "code": "G",
                 "display": "Good",
                 "system": "http://terminology.hl7.org/CodeSystem/v3-LanguageAbilityProficiency"
                }
               },
               {
                "url": "type",
                "valueCoding": {
                 "code": "RWR",
                 "display": "Received written",
                 "system": "http://terminology.hl7.org/CodeSystem/v3-LanguageAbilityMode"
                }
               }
              ],
              "url": "http://hl7.org/fhir/StructureDefinition/patient-proficiency"
             },
             {
              "url": "http://nictiz.nl/fhir/StructureDefinition/ext-Comment",
              "valueString": "Bij gesprek met arts zoon uitnodigen voor vertalen"
             }
            ],
            "language": {
             "coding": [
              {
               "code": "nl",
               "display": "Nederlands",
               "system": "urn:oid:1.0.639.1"
              }
             ]
            }
           }
          ],
          "contact": [
           {
            "address": {
             "_country": {
              "extension": [
               {
                "url": "http://nictiz.nl/fhir/StructureDefinition/ext-CodeSpecification",
                "valueCodeableConcept": {
                 "coding": [
                  {
                   "code": "6030",
                   "display": "Nederland",
                   "system": "urn:oid:2.16.840.1.113883.2.4.4.16.34",
                   "version": "2020-04-01T00:00:00"
                  }
                 ]
                }
               }
              ]
             },
             "_line": [
              {
               "extension": [
                {
                 "url": "http://hl7.org/fhir/StructureDefinition/iso21090-ADXP-streetName",
                 "valueString": "1e Jacob van Campenstr"
                },
                {
                 "url": "http://hl7.org/fhir/StructureDefinition/iso21090-ADXP-houseNumber",
                 "valueString": "15"
                }
               ]
              }
             ],
             "city": "Hoogmade",
             "country": "Nederland",
             "district": "Kaag en Braassem",
             "extension": [
              {
               "url": "http://nictiz.nl/fhir/StructureDefinition/ext-AddressInformation.AddressType",
               "valueCodeableConcept": {
                "coding": [
                 {
                  "code": "HP",
                  "display": "Primary Home",
                  "system": "http://terminology.hl7.org/CodeSystem/v3-AddressUse"
                 }
                ]
               }
              }
             ],
             "line": [
              "1e Jacob van Campenstr 15"
             ],
             "postalCode": "1012 NX",
             "type": "both",
             "use": "home"
            },
            "name": {
             "_family": {
              "extension": [
               {
                "url": "http://hl7.org/fhir/StructureDefinition/humanname-own-prefix",
                "valueString": "van"
               },
               {
                "url": "http://hl7.org/fhir/StructureDefinition/humanname-own-name",
                "valueString": "Putten"
               },
               {
                "url": "http://hl7.org/fhir/StructureDefinition/humanname-partner-prefix",
                "valueString": "van der"
               },
               {
                "url": "http://hl7.org/fhir/StructureDefinition/humanname-partner-name",
                "valueString": "Giessen"
               }
              ]
             },
             "_given": [
              {
               "extension": [
                {
                 "url": "http://hl7.org/fhir/StructureDefinition/iso21090-EN-qualifier",
                 "valueCode": "IN"
                }
               ]
              },
              {
               "extension": [
                {
                 "url": "http://hl7.org/fhir/StructureDefinition/iso21090-EN-qualifier",
                 "valueCode": "IN"
                }
               ]
              },
              {
               "extension": [
                {
                 "url": "http://hl7.org/fhir/StructureDefinition/iso21090-EN-qualifier",
                 "valueCode": "IN"
                }
               ]
              }
             ],
             "family": "van Putten-van der Giessen",
             "given": [
              "J.",
              "P.",
              "M."
             ],
             "text": "J.P.M. van Putten-van der Giessen",
             "use": "official"
            },
            "relationship": [
             {
              "coding": [
               {
                "code": "01",
                "display": "Eerste relatie/contactpersoon",
                "system": "urn:oid:2.16.840.1.113883.2.4.3.11.22.472"
               }
              ]
             },
             {
              "coding": [
               {
                "code": "07",
                "display": "Hulpverlener",
                "system": "urn:oid:2.16.840.1.113883.2.4.3.11.22.472"
               }
              ]
             }
            ],
            "telecom": [
             {
              "_system": {
               "extension": [
                {
                 "url": "http://nictiz.nl/fhir/StructureDefinition/ext-CodeSpecification",
                 "valueCodeableConcept": {
                  "coding": [
                   {
                    "code": "MC",
                    "display": "Mobile Phone",
                    "system": "http://terminology.hl7.org/CodeSystem/v3-AddressUse"
                   }
                  ]
                 }
                }
               ]
              },
              "system": "phone",
              "value": "+31611234567"
             },
             {
              "system": "email",
              "use": "work",
              "value": "giesput@myweb.nl"
             }
            ]
           }
          ],
          "deceasedBoolean": false,
          "extension": [
           {
            "extension": [
             {
              "url": "code",
              "valueCodeableConcept": {
               "coding": [
                {
                 "code": "0001",
                 "display": "Nederlandse",
                 "system": "urn:oid:2.16.840.1.113883.2.4.4.16.32"
                }
               ]
              }
             }
            ],
            "url": "http://hl7.org/fhir/StructureDefinition/patient-nationality"
           }
          ],
          "gender": "female",
          "identifier": [
           {
            "system": "http://fhir.nl/fhir/NamingSystem/bsn",
            "value": "111222333"
           }
          ],
          "maritalStatus": {
           "coding": [
            {
             "code": "D",
             "display": "Divorced",
             "system": "http://terminology.hl7.org/CodeSystem/v3-MaritalStatus"
            }
           ]
          },
          "meta": {
           "lastUpdated": "2023-09-11T20:58:54.273+00:00",
           "source": "#yw4EdgA8Jtd8r12v",
           "versionId": "1"
          },
          "multipleBirthBoolean": true,
          "name": [
           {
            "_family": {
             "extension": [
              {
               "url": "http://hl7.org/fhir/StructureDefinition/humanname-own-prefix",
               "valueString": "van"
              },
              {
               "url": "http://hl7.org/fhir/StructureDefinition/humanname-own-name",
               "valueString": "Putten"
              },
              {
               "url": "http://hl7.org/fhir/StructureDefinition/humanname-partner-prefix",
               "valueString": "van der"
              },
              {
               "url": "http://hl7.org/fhir/StructureDefinition/humanname-partner-name",
               "valueString": "Giessen"
              }
             ]
            },
            "_given": [
             {
              "extension": [
               {
                "url": "http://hl7.org/fhir/StructureDefinition/iso21090-EN-qualifier",
                "valueCode": "BR"
               }
              ]
             },
             {
              "extension": [
               {
                "url": "http://hl7.org/fhir/StructureDefinition/iso21090-EN-qualifier",
                "valueCode": "BR"
               }
              ]
             },
             {
              "extension": [
               {
                "url": "http://hl7.org/fhir/StructureDefinition/iso21090-EN-qualifier",
                "valueCode": "BR"
               }
              ]
             }
            ],
            "family": "van Putten-van der Giessen",
            "given": [
             "Johanna",
             "Petronella",
             "Maria"
            ],
            "text": "Johanna Petronella Maria (Jo) van Putten-van der Giessen",
            "use": "official"
           },
           {
            "given": [
             "Jo"
            ],
            "use": "usual"
           }
          ],
          "resourceType": "Patient",
          "telecom": [
           {
            "_system": {
             "extension": [
              {
               "url": "http://nictiz.nl/fhir/StructureDefinition/ext-CodeSpecification",
               "valueCodeableConcept": {
                "coding": [
                 {
                  "code": "MC",
                  "display": "Mobile Phone",
                  "system": "http://terminology.hl7.org/CodeSystem/v3-AddressUse"
                 }
                ]
               }
              }
             ]
            },
            "system": "phone",
            "value": "+31611234567"
           },
           {
            "system": "email",
            "use": "home",
            "value": "giesput@myweb.nl"
           }
          ],
          "text": {
           "div": "<div xmlns=\"http://www.w3.org/1999/xhtml\"><div class=\"hapiHeaderText\">Johanna Petronella Maria <b>VAN PUTTEN-VAN DER GIESSEN </b></div><table class=\"hapiPropertyTable\"><tbody><tr><td>Identifier</td><td>111222333</td></tr><tr><td>Address</td><td><span>1e Jacob van Campenstr 15 </span><br/><span>Hoogmade </span><span>Nederland </span></td></tr><tr><td>Date of birth</td><td><span>28 April 1934</span></td></tr></tbody></table></div>",
           "status": "generated"
          }
         }
        },
        {
         "fullUrl": "urn:uuid:a680e936-a35a-4c07-97ef-a403034ef88a",
         "resource": {
          "_category": [
           {
            "extension": [
             {
              "url": "http://nictiz.nl/fhir/StructureDefinition/ext-CodeSpecification",
              "valueCodeableConcept": {
               "coding": [
                {
                 "code": "419511003",
                 "display": "Neiging tot ongewenste reactie op geneesmiddel",
                 "system": "http://snomed.info/sct"
                }
               ]
              }
             }
            ]
           }
          ],
          "_criticality": {
           "extension": [
            {
             "url": "http://nictiz.nl/fhir/StructureDefinition/ext-CodeSpecification",
             "valueCodeableConcept": {
              "coding": [
               {
                "code": "24484000",
                "display": "Ernstig",
                "system": "http://snomed.info/sct"
               }
              ]
             }
            }
           ]
          },
          "category": [
           "medication"
          ],
          "clinicalStatus": {
           "coding": [
            {
             "code": "active",
             "display": "Active",
             "system": "http://terminology.hl7.org/CodeSystem/allergyintolerance-clinical"
            }
           ]
          },
          "code": {
           "coding": [
            {
             "code": "764146007",
             "display": "Penicilline",
             "system": "http://snomed.info/sct"
            }
           ]
          },
          "criticality": "high",
          "extension": [
           {
            "url": "http://hl7.org/fhir/StructureDefinition/narrativeLink",
            "valueUrl": "urn:uuid:3898688c-df30-4d56-9c70-022e8a5cab0e#AllergyIntolerance-urn:uuid:a680e936-a35a-4c07-97ef-a403034ef88a"
           }
          ],
          "lastOccurrence": "1998-06-02",
          "meta": {
           "lastUpdated": "2023-09-11T21:20:31.983+00:00",
           "source": "#Y0JCfUMYOcjxIAUp",
           "versionId": "1"
          },
          "note": [
           {
            "text": "test toelichting"
           }
          ],
          "onsetDateTime": "1995-01-01",
          "patient": {
           "display": "Patient, Johanna Petronella Maria J.P.M. Jo van Putten van der Giessen",
           "reference": "urn:uuid:1691dac6-9e84-4767-8b4f-7b151539d755",
           "type": "Patient"
          },
          "reaction": [
           {
            "description": "rode huiduitslag op armen",
            "manifestation": [
             {
              "coding": [
               {
                "code": "271807003",
                "display": "Exantheem",
                "system": "http://snomed.info/sct"
               }
              ]
             }
            ],
            "onset": "1998-06-02",
            "severity": "moderate",
            "substance": {
             "coding": [
              {
               "code": "764146007",
               "display": "Penicilline",
               "system": "http://snomed.info/sct"
              }
             ]
            }
           }
          ],
          "resourceType": "AllergyIntolerance"
         }
        },
        {
         "fullUrl": "urn:uuid:848c2cfb-0560-4761-8745-e0120ee296c4",
         "resource": {
          "category": {
           "coding": [
            {
             "code": "422979000",
             "display": "bevinding betreffende gedrag met betrekking tot medicatieregime",
             "system": "http://snomed.info/sct"
            }
           ]
          },
          "dosage": [
           {
            "doseAndRate": [
             {
              "doseQuantity": {
               "code": "mg",
               "system": "http://unitsofmeasure.org",
               "unit": "mg",
               "value": 40
              }
             }
            ],
            "timing": {
             "repeat": {
              "extension": [
               {
                "url": "http://hl7.org/fhir/StructureDefinition/timing-exact",
                "valueBoolean": true
               }
              ],
              "frequency": 1,
              "period": 1,
              "periodUnit": "d",
              "timeOfDay": [
               "08:00:00"
              ]
             }
            }
           }
          ],
          "extension": [
           {
            "url": "http://nictiz.nl/fhir/StructureDefinition/ext-RenderedDosageInstruction",
            "valueString": "Vanaf 1 september 2012 gedurende 5 dagen 1x per dag om 8uur 40 mg (=1 st)"
           },
           {
            "url": "http://nictiz.nl/fhir/StructureDefinition/ext-MedicationUse2.AsAgreedIndicator",
            "valueBoolean": true
           },
           {
            "url": "http://hl7.org/fhir/StructureDefinition/narrativeLink",
            "valueUrl": "urn:uuid:3898688c-df30-4d56-9c70-022e8a5cab0e#MedicationStatement-urn:uuid:848c2cfb-0560-4761-8745-e0120ee296c4"
           }
          ],
          "medicationReference": {
           "display": "PANTOPRAZOL 40MG INJPDR",
           "reference": "urn:uuid:723180fd-dec8-4488-a618-9cc5ad1c9109",
           "type": "Medication"
          },
          "meta": {
           "lastUpdated": "2023-09-14T20:36:23.884+00:00",
           "profile": [
            "http://nictiz.nl/fhir/StructureDefinition/nl-core-MedicationUse2"
           ],
           "source": "#4gj8py0qpup4JnZp",
           "versionId": "1"
          },
          "reasonCode": [
           {
            "text": "Ulcusprofylaxe"
           }
          ],
          "resourceType": "MedicationStatement",
          "status": "active",
          "subject": {
           "display": "Patient, Johanna Petronella Maria (Jo) van Putten-van der Giessen",
           "reference": "urn:uuid:1691dac6-9e84-4767-8b4f-7b151539d755",
           "type": "Patient"
          }
         }
        },
        {
         "fullUrl": "urn:uuid:723180fd-dec8-4488-a618-9cc5ad1c9109",
         "resource": {
          "code": {
           "coding": [
            {
             "code": "104280",
             "display": "PANTOPRAZOL 40MG INJPDR",
             "system": "urn:oid:2.16.840.1.113883.2.4.4.10",
             "userSelected": true
            }
           ],
           "text": "PANTOPRAZOL 40MG INJPDR"
          },
          "meta": {
           "lastUpdated": "2023-09-14T20:30:19.903+00:00",
           "profile": [
            "http://nictiz.nl/fhir/StructureDefinition/nl-core-PharmaceuticalProduct"
           ],
           "source": "#hUvQ9X7ust5MASNX",
           "versionId": "1"
          },
          "resourceType": "Medication"
         }
        },
        {
         "fullUrl": "urn:uuid:e2a330ac-084d-4c75-8295-8953f1340b32",
         "resource": {
          "authoredOn": "2015-07-13",
          "category": [
           {
            "coding": [
             {
              "code": "52711000146108",
              "display": "verstrekkingsverzoek",
              "system": "http://snomed.info/sct"
             }
            ]
           }
          ],
          "dispenseRequest": {
           "extension": [
            {
             "url": "http://nictiz.nl/fhir/StructureDefinition/ext-DispenseRequest.DispenseLocation",
             "valueReference": {
              "display": "afleverlocatie",
              "type": "Location"
             }
            }
           ],
           "numberOfRepeatsAllowed": 0,
           "quantity": {
            "code": "{stuks}",
            "system": "http://unitsofmeasure.org",
            "unit": "stuks",
            "value": 40
           },
           "validityPeriod": {
            "extension": [
             {
              "url": "http://nictiz.nl/fhir/StructureDefinition/ext-TimeInterval.Duration",
              "valueDuration": {
               "code": "d",
               "system": "http://unitsofmeasure.org",
               "unit": "d",
               "value": 40
              }
             }
            ]
           }
          },
          "extension": [
           {
            "url": "http://nictiz.nl/fhir/StructureDefinition/ext-DispenseRequest.AdditionalWishes",
            "valueCodeableConcept": {
             "coding": [
              {
               "code": "1",
               "display": "Spoed",
               "system": "urn:oid:2.16.840.1.113883.2.4.3.11.60.20.77.5.2.3.2051"
              }
             ]
            }
           },
           {
            "url": "http://hl7.org/fhir/StructureDefinition/narrativeLink",
            "valueUrl": "urn:uuid:3898688c-df30-4d56-9c70-022e8a5cab0e#MedicationRequest-urn:uuid:e2a330ac-084d-4c75-8295-8953f1340b32"
           }
          ],
          "intent": "order",
          "medicationReference": {
           "display": "METOCLOPRAMIDE 20MG ZETPIL",
           "reference": "urn:uuid:2fe41d83-7a01-4581-8200-02a2b60f62c6",
           "type": "Medication"
          },
          "meta": {
           "lastUpdated": "2023-09-14T20:34:37.680+00:00",
           "profile": [
            "http://nictiz.nl/fhir/StructureDefinition/nl-core-DispenseRequest"
           ],
           "source": "#RVV3qKqvBGRzSeaY",
           "versionId": "1"
          },
          "performer": {
           "display": "Healthcare provider (organization), Apotheek De Gulle Gaper",
           "type": "Organization"
          },
          "resourceType": "MedicationRequest",
          "status": "unknown",
          "subject": {
           "display": "Patient, Johanna Petronella Maria (Jo) van Putten-van der Giessen",
           "reference": "urn:uuid:1691dac6-9e84-4767-8b4f-7b151539d755",
           "type": "Patient"
          }
         }
        },
        {
         "fullUrl": "urn:uuid:a298394a-eae9-4ba7-8690-72d201ce5d6f",
         "resource": {
          "authoredOn": "2016-09-08T18:00:00+02:00",
          "category": [
           {
            "coding": [
             {
              "code": "16076005",
              "display": "voorschrijven",
              "system": "http://snomed.info/sct"
             }
            ]
           }
          ],
          "dosageInstruction": [
           {
            "doseAndRate": [
             {
              "doseQuantity": {
               "code": "{stuk}",
               "system": "http://unitsofmeasure.org",
               "unit": "stuk",
               "value": 1
              }
             }
            ],
            "timing": {
             "repeat": {
              "extension": [
               {
                "url": "http://hl7.org/fhir/StructureDefinition/timing-exact",
                "valueBoolean": true
               }
              ],
              "frequency": 1,
              "period": 1,
              "periodUnit": "d"
             }
            }
           }
          ],
          "extension": [
           {
            "url": "http://nictiz.nl/fhir/StructureDefinition/ext-RenderedDosageInstruction",
            "valueString": "Van 8-9-2017 tot 18-9-2017 1x per dag 1 stuk. Vanaf 18-9-2017 staken."
           },
           {
            "url": "http://nictiz.nl/fhir/StructureDefinition/ext-TimeInterval.Period",
            "valuePeriod": {
             "end": "2016-09-18",
             "start": "2016-09-08"
            }
           },
           {
            "url": "http://hl7.org/fhir/StructureDefinition/narrativeLink",
            "valueUrl": "urn:uuid:3898688c-df30-4d56-9c70-022e8a5cab0e#MedicationRequest-urn:uuid:a298394a-eae9-4ba7-8690-72d201ce5d6f"
           }
          ],
          "intent": "order",
          "medicationReference": {
           "display": "LISINOPRIL 10MG TABLET",
           "reference": "urn:uuid:53fc5031-2494-42e4-8f39-9c35009b52be",
           "type": "Medication"
          },
          "meta": {
           "lastUpdated": "2023-09-14T20:38:53.192+00:00",
           "profile": [
            "http://nictiz.nl/fhir/StructureDefinition/nl-core-MedicationAgreement"
           ],
           "source": "#haa22yfH4941AM0r",
           "versionId": "1"
          },
          "modifierExtension": [
           {
            "url": "http://nictiz.nl/fhir/StructureDefinition/ext-StopType",
            "valueCodeableConcept": {
             "coding": [
              {
               "code": "113381000146106",
               "display": "Drug therapy definitively stopped (finding)",
               "system": "http://snomed.info/sct"
              }
             ]
            }
           }
          ],
          "reasonCode": [
           {
            "coding": [
             {
              "code": "58848006",
              "display": "Gebrek aan geneesmiddeleffect",
              "system": "http://snomed.info/sct"
             }
            ]
           }
          ],
          "requester": {
           "display": "Healthcare professional (role), D. Bakker",
           "type": "PractitionerRole"
          },
          "resourceType": "MedicationRequest",
          "status": "unknown",
          "subject": {
           "display": "Patient, Johanna Petronella Maria (Jo) van Putten-van der Giessen",
           "reference": "urn:uuid:1691dac6-9e84-4767-8b4f-7b151539d755",
           "type": "Patient"
          }
         }
        },
        {
         "fullUrl": "urn:uuid:f00707a8-b5ee-4296-a4a0-6fdb050332f9",
         "resource": {
          "authoredOn": "2016-03-06T09:12:30+01:00",
          "category": [
           {
            "coding": [
             {
              "code": "16076005",
              "display": "voorschrijven",
              "system": "http://snomed.info/sct"
             }
            ]
           }
          ],
          "dosageInstruction": [
           {
            "doseAndRate": [
             {
              "doseQuantity": {
               "code": "mg",
               "system": "http://unitsofmeasure.org",
               "unit": "mg",
               "value": 15
              }
             }
            ],
            "timing": {
             "repeat": {
              "dayOfWeek": [
               "mon"
              ],
              "extension": [
               {
                "url": "http://hl7.org/fhir/StructureDefinition/timing-exact",
                "valueBoolean": true
               }
              ],
              "frequency": 1,
              "period": 1,
              "periodUnit": "wk",
              "when": [
               "AFT"
              ]
             }
            }
           }
          ],
          "extension": [
           {
            "url": "http://nictiz.nl/fhir/StructureDefinition/ext-RenderedDosageInstruction",
            "valueString": "Vanaf 6 maart 2016 1x per week op maandag om 14uur 15 mg (=0,6 ml)"
           },
           {
            "url": "http://nictiz.nl/fhir/StructureDefinition/ext-TimeInterval.Period",
            "valuePeriod": {
             "start": "2016-03-06"
            }
           },
           {
            "url": "http://hl7.org/fhir/StructureDefinition/narrativeLink",
            "valueUrl": "urn:uuid:3898688c-df30-4d56-9c70-022e8a5cab0e#MedicationRequest-urn:uuid:f00707a8-b5ee-4296-a4a0-6fdb050332f9"
           }
          ],
          "intent": "order",
          "medicationReference": {
           "display": "METHOTREXAAT INJVLST 15MG/0,6ML(25MG/ML) WWSP PA",
           "reference": "urn:uuid:0b2ffe40-6d3d-4acd-a47b-f88252997828",
           "type": "Medication"
          },
          "meta": {
           "lastUpdated": "2023-09-14T20:38:54.196+00:00",
           "profile": [
            "http://nictiz.nl/fhir/StructureDefinition/nl-core-MedicationAgreement"
           ],
           "source": "#X1jw9KhIfYQ7NqGW",
           "versionId": "1"
          },
          "reasonCode": [
           {
            "coding": [
             {
              "code": "266709005",
              "display": "Medicatie gestart",
              "system": "http://snomed.info/sct"
             }
            ]
           }
          ],
          "reasonReference": [
           {
            "display": "Problem",
            "type": "Condition"
           }
          ],
          "requester": {
           "display": "Healthcare professional (role), R. Jansen",
           "type": "PractitionerRole"
          },
          "resourceType": "MedicationRequest",
          "status": "unknown",
          "subject": {
           "display": "Patient, Johanna Petronella Maria (Jo) van Putten-van der Giessen",
           "reference": "urn:uuid:1691dac6-9e84-4767-8b4f-7b151539d755",
           "type": "Patient"
          }
         }
        },
        {
         "fullUrl": "urn:uuid:0b2ffe40-6d3d-4acd-a47b-f88252997828",
         "resource": {
          "code": {
           "coding": [
            {
             "code": "2033666",
             "display": "METHOTREXAAT INJVLST 15MG/0,6ML(25MG/ML) WWSP PA",
             "system": "urn:oid:2.16.840.1.113883.2.4.4.10",
             "userSelected": true
            }
           ],
           "text": "METHOTREXAAT INJVLST 15MG/0,6ML(25MG/ML) WWSP PA"
          },
          "meta": {
           "lastUpdated": "2023-09-14T20:30:17.902+00:00",
           "profile": [
            "http://nictiz.nl/fhir/StructureDefinition/nl-core-PharmaceuticalProduct"
           ],
           "source": "#3OSStvRzKBJGgonF",
           "versionId": "1"
          },
          "resourceType": "Medication"
         }
        },
        {
         "fullUrl": "urn:uuid:53fc5031-2494-42e4-8f39-9c35009b52be",
         "resource": {
          "code": {
           "coding": [
            {
             "code": "71587",
             "display": "LISINOPRIL 10MG TABLET",
             "system": "urn:oid:2.16.840.1.113883.2.4.4.10",
             "userSelected": true
            }
           ],
           "text": "LISINOPRIL 10MG TABLET"
          },
          "meta": {
           "lastUpdated": "2023-09-14T20:30:16.902+00:00",
           "profile": [
            "http://nictiz.nl/fhir/StructureDefinition/nl-core-PharmaceuticalProduct"
           ],
           "source": "#SfFhTnhr9axtflTG",
           "versionId": "1"
          },
          "resourceType": "Medication"
         }
        },
        {
         "fullUrl": "urn:uuid:2fe41d83-7a01-4581-8200-02a2b60f62c6",
         "resource": {
          "code": {
           "coding": [
            {
             "code": "63630",
             "display": "METOCLOPRAMIDE 20MG ZETPIL",
             "system": "urn:oid:2.16.840.1.113883.2.4.4.1",
             "userSelected": true
            }
           ],
           "text": "METOCLOPRAMIDE 20MG ZETPIL"
          },
          "meta": {
           "lastUpdated": "2023-09-14T20:30:12.900+00:00",
           "profile": [
            "http://nictiz.nl/fhir/StructureDefinition/nl-core-PharmaceuticalProduct"
           ],
           "source": "#0GIXEb6LagbX5Pij",
           "versionId": "1"
          },
          "resourceType": "Medication"
         }
        },
        {
         "fullUrl": "urn:uuid:5048222b-af51-44f2-aeac-2e18a41a643a",
         "resource": {
          "clinicalStatus": {
           "coding": [
            {
             "code": "active",
             "display": "Active",
             "system": "http://terminology.hl7.org/CodeSystem/condition-clinical"
            }
           ]
          },
          "code": {
           "coding": [
            {
             "code": "86044005",
             "display": "amyotrofische laterale sclerose",
             "system": "http://snomed.info/sct"
            }
           ]
          },
          "extension": [
           {
            "url": "http://hl7.org/fhir/StructureDefinition/narrativeLink",
            "valueUrl": "urn:uuid:3898688c-df30-4d56-9c70-022e8a5cab0e#Condition-urn:uuid:5048222b-af51-44f2-aeac-2e18a41a643a"
           }
          ],
          "meta": {
           "lastUpdated": "2023-09-29T09:38:07.240+00:00",
           "source": "#JXAlfDpiqmq7q6Sw",
           "versionId": "2"
          },
          "resourceType": "Condition",
          "subject": {
           "display": "Patient, Johanna Petronella Maria (Jo) van Putten-van der Giessen",
           "reference": "urn:uuid:1691dac6-9e84-4767-8b4f-7b151539d755",
           "type": "Patient"
          }
         }
        },
        {
         "fullUrl": "urn:uuid:0c5bb4e1-8cb4-489c-8723-bd4c3eaa1812",
         "resource": {
          "category": [
           {
            "coding": [
             {
              "code": "282291009",
              "display": "Interpretatie van diagnose",
              "system": "http://snomed.info/sct"
             }
            ]
           }
          ],
          "clinicalStatus": {
           "coding": [
            {
             "code": "active",
             "display": "Active",
             "system": "http://terminology.hl7.org/CodeSystem/condition-clinical"
            }
           ]
          },
          "code": {
           "coding": [
            {
             "code": "429998004",
             "display": "vasculaire dementie",
             "system": "http://snomed.info/sct"
            }
           ]
          },
          "extension": [
           {
            "url": "http://hl7.org/fhir/StructureDefinition/narrativeLink",
            "valueUrl": "urn:uuid:3898688c-df30-4d56-9c70-022e8a5cab0e#Condition-urn:uuid:0c5bb4e1-8cb4-489c-8723-bd4c3eaa1812"
           }
          ],
          "meta": {
           "lastUpdated": "2023-09-29T09:38:08.238+00:00",
           "source": "#mwzf9NVRWJiXHymE",
           "versionId": "2"
          },
          "note": [
           {
            "text": "De laatste weken erg onrustig in de nacht"
           }
          ],
          "resourceType": "Condition",
          "subject": {
           "display": "Patient, Johanna Petronella Maria (Jo) van Putten-van der Giessen",
           "reference": "urn:uuid:1691dac6-9e84-4767-8b4f-7b151539d755",
           "type": "Patient"
          }
         }
        },
        {
         "fullUrl": "urn:uuid:53f0e429-e8dc-4481-9975-84000b1c6eab",
         "resource": {
          "category": [
           {
            "coding": [
             {
              "code": "282291009",
              "display": "Interpretatie van diagnose",
              "system": "http://snomed.info/sct"
             }
            ]
           }
          ],
          "clinicalStatus": {
           "coding": [
            {
             "code": "active",
             "display": "Active",
             "system": "http://terminology.hl7.org/CodeSystem/condition-clinical"
            }
           ]
          },
          "code": {
           "coding": [
            {
             "code": "195111005",
             "display": "Hartfalen",
             "system": "http://snomed.info/sct"
            }
           ]
          },
          "extension": [
           {
            "url": "http://hl7.org/fhir/StructureDefinition/narrativeLink",
            "valueUrl": "urn:uuid:3898688c-df30-4d56-9c70-022e8a5cab0e#Condition-urn:uuid:53f0e429-e8dc-4481-9975-84000b1c6eab"
           }
          ],
          "meta": {
           "lastUpdated": "2023-09-29T09:38:09.240+00:00",
           "source": "#1BnbHO4IqSa2t0bL",
           "versionId": "2"
          },
          "note": [
           {
            "text": "Houdt veel vocht vast, kortademig"
           }
          ],
          "resourceType": "Condition",
          "subject": {
           "display": "Patient, Johanna Petronella Maria (Jo) van Putten-van der Giessen",
           "reference": "urn:uuid:1691dac6-9e84-4767-8b4f-7b151539d755",
           "type": "Patient"
          }
         }
        },
        {
         "fullUrl": "urn:uuid:6fa73a5d-c8b3-459b-9218-e1ebd4cfa2bc",
         "resource": {
          "category": [
           {
            "coding": [
             {
              "code": "116223007",
              "display": "Complicatie",
              "system": "http://snomed.info/sct"
             }
            ]
           }
          ],
          "clinicalStatus": {
           "coding": [
            {
             "code": "active",
             "display": "Active",
             "system": "http://terminology.hl7.org/CodeSystem/condition-clinical"
            }
           ]
          },
          "code": {
           "coding": [
            {
             "code": "62014003",
             "display": "Geneesmiddel-interacties",
             "system": "http://snomed.info/sct"
            }
           ]
          },
          "extension": [
           {
            "url": "http://hl7.org/fhir/StructureDefinition/narrativeLink",
            "valueUrl": "urn:uuid:3898688c-df30-4d56-9c70-022e8a5cab0e#Condition-urn:uuid:6fa73a5d-c8b3-459b-9218-e1ebd4cfa2bc"
           }
          ],
          "meta": {
           "lastUpdated": "2023-09-29T09:38:10.237+00:00",
           "source": "#0CBlr5UV2LNz5qeZ",
           "versionId": "2"
          },
          "note": [
           {
            "text": "Huiduitslag met veel jeuk door medicatie"
           }
          ],
          "resourceType": "Condition",
          "subject": {
           "display": "Patient, Johanna Petronella Maria (Jo) van Putten-van der Giessen",
           "reference": "urn:uuid:1691dac6-9e84-4767-8b4f-7b151539d755",
           "type": "Patient"
          }
         }
        },
        {
         "fullUrl": "urn:uuid:958ecb9f-300a-4820-a4e2-ed0d56aae9fa",
         "resource": {
          "category": [
           {
            "coding": [
             {
              "code": "151701000146105",
              "display": "type voogd",
              "system": "http://snomed.info/sct"
             }
            ]
           }
          ],
          "clinicalStatus": {
           "coding": [
            {
             "code": "active",
             "display": "Active",
             "system": "http://terminology.hl7.org/CodeSystem/condition-clinical"
            }
           ]
          },
          "code": {
           "coding": [
            {
             "code": "6",
             "display": "Voogdij",
             "system": "urn:oid:2.16.840.1.113883.2.4.3.11.60.40.4.23.3"
            }
           ]
          },
          "extension": [
           {
            "url": "http://hl7.org/fhir/StructureDefinition/narrativeLink",
            "valueUrl": "urn:uuid:3898688c-df30-4d56-9c70-022e8a5cab0e#Condition-urn:uuid:958ecb9f-300a-4820-a4e2-ed0d56aae9fa"
           }
          ],
          "meta": {
           "lastUpdated": "2023-09-29T09:38:11.238+00:00",
           "source": "#1bYj2j6hCbSBEtuC",
           "versionId": "2"
          },
          "resourceType": "Condition",
          "subject": {
           "display": "Patient, Johanna Petronella Maria (Jo) van Putten-van der Giessen",
           "reference": "urn:uuid:1691dac6-9e84-4767-8b4f-7b151539d755",
           "type": "Patient"
          }
         }
        },
        {
         "fullUrl": "urn:uuid:caba424e-4d7e-41b5-bf96-d7d38219bf54",
         "resource": {
          "clinicalStatus": {
           "coding": [
            {
             "code": "active",
             "display": "Active",
             "system": "http://terminology.hl7.org/CodeSystem/condition-clinical"
            }
           ]
          },
          "code": {
           "coding": [
            {
             "code": "G35",
             "display": "Multiple sclerose",
             "system": "http://hl7.org/fhir/sid/icd-10-nl"
            }
           ]
          },
          "extension": [
           {
            "url": "http://hl7.org/fhir/StructureDefinition/narrativeLink",
            "valueUrl": "urn:uuid:3898688c-df30-4d56-9c70-022e8a5cab0e#Condition-urn:uuid:caba424e-4d7e-41b5-bf96-d7d38219bf54"
           }
          ],
          "meta": {
           "lastUpdated": "2023-09-29T09:38:14.238+00:00",
           "source": "#AldZOBwj0iLfUcHI",
           "versionId": "2"
          },
          "resourceType": "Condition",
          "subject": {
           "display": "Patient, Johanna Petronella Maria (Jo) van Putten-van der Giessen",
           "reference": "urn:uuid:1691dac6-9e84-4767-8b4f-7b151539d755",
           "type": "Patient"
          }
         }
        },
        {
         "fullUrl": "urn:uuid:34064a3c-04d7-4145-adb7-e190cfe06127",
         "resource": {
          "clinicalStatus": {
           "coding": [
            {
             "code": "active",
             "display": "Active",
             "system": "http://terminology.hl7.org/CodeSystem/condition-clinical"
            }
           ]
          },
          "code": {
           "coding": [
            {
             "code": "H91.1",
             "display": "Presbyacusis",
             "system": "http://hl7.org/fhir/sid/icd-10-nl"
            }
           ]
          },
          "extension": [
           {
            "url": "http://hl7.org/fhir/StructureDefinition/narrativeLink",
            "valueUrl": "urn:uuid:3898688c-df30-4d56-9c70-022e8a5cab0e#Condition-urn:uuid:34064a3c-04d7-4145-adb7-e190cfe06127"
           }
          ],
          "meta": {
           "lastUpdated": "2023-09-29T09:38:15.240+00:00",
           "source": "#lTX0UdziMZdohJsv",
           "versionId": "2"
          },
          "resourceType": "Condition",
          "subject": {
           "display": "Patient, Johanna Petronella Maria (Jo) van Putten-van der Giessen",
           "reference": "urn:uuid:1691dac6-9e84-4767-8b4f-7b151539d755",
           "type": "Patient"
          }
         }
        },
        {
         "fullUrl": "urn:uuid:e04ef9e8-13c3-4925-9705-5c298b940ddc",
         "resource": {
          "clinicalStatus": {
           "coding": [
            {
             "code": "active",
             "display": "Active",
             "system": "http://terminology.hl7.org/CodeSystem/condition-clinical"
            }
           ]
          },
          "code": {
           "coding": [
            {
             "code": "I48.0",
             "display": "Paroxismaal boezemfibrilleren",
             "system": "http://hl7.org/fhir/sid/icd-10-nl"
            }
           ]
          },
          "extension": [
           {
            "url": "http://hl7.org/fhir/StructureDefinition/narrativeLink",
            "valueUrl": "urn:uuid:3898688c-df30-4d56-9c70-022e8a5cab0e#Condition-urn:uuid:e04ef9e8-13c3-4925-9705-5c298b940ddc"
           }
          ],
          "meta": {
           "lastUpdated": "2023-09-29T09:38:16.239+00:00",
           "source": "#vsHXMk6Nqc7QlZOE",
           "versionId": "2"
          },
          "resourceType": "Condition",
          "subject": {
           "display": "Patient, Johanna Petronella Maria (Jo) van Putten-van der Giessen",
           "reference": "urn:uuid:1691dac6-9e84-4767-8b4f-7b151539d755",
           "type": "Patient"
          }
         }
        },
        {
         "fullUrl": "urn:uuid:762d22ad-ad90-4e9a-8870-bad694cd2618",
         "resource": {
          "clinicalStatus": {
           "coding": [
            {
             "code": "active",
             "display": "Active",
             "system": "http://terminology.hl7.org/CodeSystem/condition-clinical"
            }
           ]
          },
          "code": {
           "coding": [
            {
             "code": "267024001",
             "display": "abnormaal gewichtsverlies",
             "system": "http://snomed.info/sct"
            }
           ]
          },
          "extension": [
           {
            "url": "http://hl7.org/fhir/StructureDefinition/narrativeLink",
            "valueUrl": "urn:uuid:3898688c-df30-4d56-9c70-022e8a5cab0e#Condition-urn:uuid:762d22ad-ad90-4e9a-8870-bad694cd2618"
           }
          ],
          "meta": {
           "lastUpdated": "2023-09-29T09:38:17.237+00:00",
           "source": "#k9m5Pn2GyH8avmtI",
           "versionId": "2"
          },
          "resourceType": "Condition",
          "subject": {
           "display": "Patient, Johanna Petronella Maria (Jo) van Putten-van der Giessen",
           "reference": "urn:uuid:1691dac6-9e84-4767-8b4f-7b151539d755",
           "type": "Patient"
          }
         }
        },
        {
         "fullUrl": "urn:uuid:392d5050-dfc8-494c-bd8e-f0291b837618",
         "resource": {
          "clinicalStatus": {
           "coding": [
            {
             "code": "active",
             "display": "Active",
             "system": "http://terminology.hl7.org/CodeSystem/condition-clinical"
            }
           ]
          },
          "code": {
           "coding": [
            {
             "code": "118185001",
             "display": "bevinding betreffende zwangerschap",
             "system": "http://snomed.info/sct"
            }
           ]
          },
          "extension": [
           {
            "url": "http://hl7.org/fhir/StructureDefinition/narrativeLink",
            "valueUrl": "urn:uuid:3898688c-df30-4d56-9c70-022e8a5cab0e#Condition-urn:uuid:392d5050-dfc8-494c-bd8e-f0291b837618"
           }
          ],
          "meta": {
           "lastUpdated": "2023-09-29T09:38:18.239+00:00",
           "source": "#7LE5dHaTZ6AlyAU4",
           "versionId": "7"
          },
          "note": [
           {
            "text": "Mevrouw is vaak misselijk in de ochtend."
           }
          ],
          "resourceType": "Condition",
          "subject": {
           "display": "Patient, Johanna Petronella Maria (Jo) van Putten-van der Giessen",
           "reference": "urn:uuid:1691dac6-9e84-4767-8b4f-7b151539d755",
           "type": "Patient"
          }
         }
        },
        {
         "fullUrl": "urn:uuid:eae3b0a2-9c9e-4a2c-bfe7-d5edb143fedd",
         "resource": {
          "clinicalStatus": {
           "coding": [
            {
             "code": "active",
             "display": "Active",
             "system": "http://terminology.hl7.org/CodeSystem/condition-clinical"
            }
           ]
          },
          "code": {
           "coding": [
            {
             "code": "396275006",
             "display": "Artrose",
             "system": "http://snomed.info/sct"
            }
           ]
          },
          "extension": [
           {
            "url": "http://hl7.org/fhir/StructureDefinition/narrativeLink",
            "valueUrl": "urn:uuid:3898688c-df30-4d56-9c70-022e8a5cab0e#Condition-urn:uuid:eae3b0a2-9c9e-4a2c-bfe7-d5edb143fedd"
           }
          ],
          "meta": {
           "lastUpdated": "2023-09-29T09:38:19.238+00:00",
           "source": "#hFis8NgNyRG90Iiu",
           "versionId": "2"
          },
          "note": [
           {
            "text": "Beperking bij het bewegen van het gewricht, drukpijn door slijtage van twee compartimenten van de linker knie."
           }
          ],
          "resourceType": "Condition",
          "subject": {
           "display": "Patient, Johanna Petronella Maria (Jo) van Putten-van der Giessen",
           "reference": "urn:uuid:1691dac6-9e84-4767-8b4f-7b151539d755",
           "type": "Patient"
          }
         }
        },
        {
         "fullUrl": "urn:uuid:d22d2376-e553-405f-966e-d2abac7f3e5b",
         "resource": {
          "bodySite": [
           {
            "coding": [
             {
              "code": "27033000",
              "display": "onderbuik",
              "system": "http://snomed.info/sct"
             }
            ],
            "extension": [
             {
              "url": "http://nictiz.nl/fhir/StructureDefinition/ext-AnatomicalLocation.Laterality",
              "valueCodeableConcept": {
               "coding": [
                {
                 "code": "24028007",
                 "display": "rechts",
                 "system": "http://snomed.info/sct"
                }
               ]
              }
             }
            ]
           }
          ],
          "category": [
           {
            "coding": [
             {
              "code": "245857005",
              "display": "stoma",
              "system": "http://snomed.info/sct"
             }
            ]
           }
          ],
          "clinicalStatus": {
           "coding": [
            {
             "code": "active",
             "display": "Active",
             "system": "http://terminology.hl7.org/CodeSystem/condition-clinical"
            }
           ]
          },
          "code": {
           "coding": [
            {
             "code": "261030007",
             "display": "eindstandig colostoma",
             "system": "http://snomed.info/sct"
            }
           ]
          },
          "extension": [
           {
            "url": "http://hl7.org/fhir/StructureDefinition/narrativeLink",
            "valueUrl": "urn:uuid:3898688c-df30-4d56-9c70-022e8a5cab0e#Condition-urn:uuid:d22d2376-e553-405f-966e-d2abac7f3e5b"
           }
          ],
          "meta": {
           "lastUpdated": "2023-09-29T09:38:22.239+00:00",
           "source": "#AgdCG9UTyVIVA37z",
           "versionId": "2"
          },
          "note": [
           {
            "text": "PatiÃ«nt heeft veel last van dit type stoma."
           }
          ],
          "onsetDateTime": "2014",
          "resourceType": "Condition",
          "subject": {
           "display": "Patient, Johanna Petronella Maria (Jo) van Putten-van der Giessen",
           "reference": "urn:uuid:1691dac6-9e84-4767-8b4f-7b151539d755",
           "type": "Patient"
          }
         }
        },
        {
         "fullUrl": "urn:uuid:fb193865-18fe-4eab-9118-29c4aa33afa9",
         "resource": {
          "category": {
           "coding": [
            {
             "code": "225317005",
             "display": "beperking van bewegingsvrijheid",
             "system": "http://snomed.info/sct"
            }
           ]
          },
          "code": {
           "coding": [
            {
             "code": "123941000146105",
             "display": "Placing restraint using limb restraint",
             "system": "http://snomed.info/sct"
            }
           ]
          },
          "extension": [
           {
            "extension": [
             {
              "url": "legallyCapable",
              "valueBoolean": false
             },
             {
              "url": "legallyCapableComment",
              "valueString": "Wilsonbekwaam t.a.v. geldzaken."
             }
            ],
            "url": "http://nictiz.nl/fhir/StructureDefinition/ext-FreedomRestrictingIntervention.LegallyCapable"
           },
           {
            "url": "http://nictiz.nl/fhir/StructureDefinition/ext-FreedomRestrictingIntervention.Assent",
            "valueCodeableConcept": {
             "coding": [
              {
               "code": "2",
               "display": "Instemming patiÃ«nt",
               "system": "urn:oid:2.16.840.1.113883.2.4.3.11.60.40.4.6.1"
              }
             ]
            }
           },
           {
            "url": "http://hl7.org/fhir/StructureDefinition/narrativeLink",
            "valueUrl": "urn:uuid:3898688c-df30-4d56-9c70-022e8a5cab0e#Procedure-urn:uuid:fb193865-18fe-4eab-9118-29c4aa33afa9"
           }
          ],
          "meta": {
           "lastUpdated": "2023-09-11T21:20:42.980+00:00",
           "source": "#a1ztmYzx8Y65zLOZ",
           "versionId": "1"
          },
          "performedPeriod": {
           "end": "2019-05-05",
           "start": "2019-05-01"
          },
          "reasonCode": [
           {
            "coding": [
             {
              "code": "121491000146107",
              "display": "Diversion of crisis situation",
              "system": "http://snomed.info/sct"
             }
            ]
           }
          ],
          "reasonReference": [
           {
            "display": "Legal situation, representation: Voogdij",
            "reference": "urn:uuid:958ecb9f-300a-4820-a4e2-ed0d56aae9fa",
            "type": "Condition"
           }
          ],
          "resourceType": "Procedure",
          "status": "completed",
          "subject": {
           "display": "Patient, Johanna Petronella Maria (Jo) van Putten-van der Giessen",
           "reference": "urn:uuid:1691dac6-9e84-4767-8b4f-7b151539d755",
           "type": "Patient"
          }
         }
        },
        {
         "fullUrl": "urn:uuid:d0edb020-b78d-40c8-98b4-b936ae486508",
         "resource": {
          "code": {
           "coding": [
            {
             "code": "609588000",
             "display": "implantatie van totale knieprothese",
             "system": "http://snomed.info/sct"
            }
           ]
          },
          "extension": [
           {
            "url": "http://hl7.org/fhir/StructureDefinition/narrativeLink",
            "valueUrl": "urn:uuid:3898688c-df30-4d56-9c70-022e8a5cab0e#Procedure-urn:uuid:d0edb020-b78d-40c8-98b4-b936ae486508"
           }
          ],
          "meta": {
           "lastUpdated": "2023-09-11T21:20:44.981+00:00",
           "source": "#iLk4i3wkzz3KhRNz",
           "versionId": "1"
          },
          "report": [
           {
            "display": "tekst_uitslag",
            "type": "DiagnosticReport"
           }
          ],
          "resourceType": "Procedure",
          "status": "unknown",
          "subject": {
           "display": "Patient, Johanna Petronella Maria (Jo) van Putten-van der Giessen",
           "reference": "urn:uuid:1691dac6-9e84-4767-8b4f-7b151539d755",
           "type": "Patient"
          }
         }
        },
        {
         "fullUrl": "urn:uuid:87b7bb8b-5875-4ebe-bb36-f5c5c136860c",
         "resource": {
          "device": {
           "display": "Ergonomisch elektrisch scheerapparaat",
           "reference": "urn:uuid:97d3e6d5-eae5-46b9-b6af-1e45a916c057",
           "type": "Device"
          },
          "extension": [
           {
            "url": "http://hl7.org/fhir/StructureDefinition/narrativeLink",
            "valueUrl": "urn:uuid:3898688c-df30-4d56-9c70-022e8a5cab0e#DeviceUseStatement-urn:uuid:87b7bb8b-5875-4ebe-bb36-f5c5c136860c"
           }
          ],
          "meta": {
           "lastUpdated": "2023-09-11T21:03:06.319+00:00",
           "source": "#NhnS5l8YhE4izC0R",
           "versionId": "1"
          },
          "reasonReference": [
           {
            "display": "Functional or mental status observation, measurement date 2015-02-23",
            "type": "Observation"
           }
          ],
          "resourceType": "DeviceUseStatement",
          "status": "active",
          "subject": {
           "display": "Patient, Johanna Petronella Maria (Jo) van Putten-van der Giessen",
           "reference": "urn:uuid:1691dac6-9e84-4767-8b4f-7b151539d755",
           "type": "Patient"
          },
          "timingPeriod": {
           "start": "2015-02-23"
          }
         }
        },
        {
         "fullUrl": "urn:uuid:d06e7c55-5215-43c6-a24c-6a282c300380",
         "resource": {
          "device": {
           "display": "Standaard rolstoel, 46 cm zitting",
           "reference": "urn:uuid:25d37b76-7111-46d3-867a-af22a3d11d51",
           "type": "Device"
          },
          "extension": [
           {
            "url": "http://hl7.org/fhir/StructureDefinition/narrativeLink",
            "valueUrl": "urn:uuid:3898688c-df30-4d56-9c70-022e8a5cab0e#DeviceUseStatement-urn:uuid:d06e7c55-5215-43c6-a24c-6a282c300380"
           }
          ],
          "meta": {
           "lastUpdated": "2023-09-11T21:03:08.318+00:00",
           "source": "#sLXp33f24rYA2RlP",
           "versionId": "1"
          },
          "note": [
           {
            "text": "Kan korte afstanden lopen"
           }
          ],
          "reasonReference": [
           {
            "display": "Problem",
            "reference": "urn:uuid:caba424e-4d7e-41b5-bf96-d7d38219bf54",
            "type": "Condition"
           }
          ],
          "resourceType": "DeviceUseStatement",
          "status": "active",
          "subject": {
           "display": "Patient, Johanna Petronella Maria (Jo) van Putten-van der Giessen",
           "reference": "urn:uuid:1691dac6-9e84-4767-8b4f-7b151539d755",
           "type": "Patient"
          },
          "timingPeriod": {
           "start": "2012-03-08"
          }
         }
        },
        {
         "fullUrl": "urn:uuid:b5a6a499-7c04-48b1-887e-a9006309d2e7",
         "resource": {
          "bodySite": {
           "coding": [
            {
             "code": "117590005",
             "display": "Oor",
             "system": "http://snomed.info/sct"
            }
           ],
           "extension": [
            {
             "url": "http://nictiz.nl/fhir/StructureDefinition/ext-AnatomicalLocation.Laterality",
             "valueCodeableConcept": {
              "coding": [
               {
                "code": "24028007",
                "display": "Rechts",
                "system": "http://snomed.info/sct"
               }
              ]
             }
            }
           ]
          },
          "device": {
           "display": "TuneAmp gehoortoestel",
           "reference": "urn:uuid:9d714af4-e4ec-4295-8beb-558055449dff",
           "type": "Device"
          },
          "extension": [
           {
            "url": "http://nictiz.nl/fhir/StructureDefinition/ext-MedicalDevice.Location",
            "valueReference": {
             "display": "Healthcare provider (location), St. Franciscus Gasthuis",
             "type": "Location"
            }
           },
           {
            "url": "http://hl7.org/fhir/StructureDefinition/narrativeLink",
            "valueUrl": "urn:uuid:3898688c-df30-4d56-9c70-022e8a5cab0e#DeviceUseStatement-urn:uuid:b5a6a499-7c04-48b1-887e-a9006309d2e7"
           }
          ],
          "meta": {
           "lastUpdated": "2023-09-11T21:03:09.317+00:00",
           "source": "#eDZDX700jVdyDcGC",
           "versionId": "1"
          },
          "note": [
           {
            "text": "Apparaat niet zichtbaar (diep in de gehooringang)"
           }
          ],
          "reasonReference": [
           {
            "display": "Problem",
            "reference": "urn:uuid:34064a3c-04d7-4145-adb7-e190cfe06127",
            "type": "Condition"
           }
          ],
          "resourceType": "DeviceUseStatement",
          "status": "completed",
          "subject": {
           "display": "Patient, Johanna Petronella Maria (Jo) van Putten-van der Giessen",
           "reference": "urn:uuid:1691dac6-9e84-4767-8b4f-7b151539d755",
           "type": "Patient"
          },
          "timingPeriod": {
           "end": "2021-10-01",
           "start": "2007-01-01"
          }
         }
        },
        {
         "fullUrl": "urn:uuid:75aa1407-651b-4b1b-9f89-0e7d48917ced",
         "resource": {
          "bodySite": {
           "coding": [
            {
             "code": "9454009",
             "display": "subclavian pouch",
             "system": "http://snomed.info/sct"
            }
           ],
           "extension": [
            {
             "url": "http://nictiz.nl/fhir/StructureDefinition/ext-AnatomicalLocation.Laterality",
             "valueCodeableConcept": {
              "coding": [
               {
                "code": "7771000",
                "display": "Links",
                "system": "http://snomed.info/sct"
               }
              ]
             }
            }
           ]
          },
          "device": {
           "reference": "urn:uuid:49eda10d-06e7-4ddb-92be-63411b223528",
           "type": "Device"
          },
          "extension": [
           {
            "url": "http://nictiz.nl/fhir/StructureDefinition/ext-MedicalDevice.HealthProfessional",
            "valueReference": {
             "display": "Healthcare professional (role), Karel Janssen, Medisch specialisten, cardiologie",
             "type": "PractitionerRole"
            }
           },
           {
            "url": "http://nictiz.nl/fhir/StructureDefinition/ext-MedicalDevice.Location",
            "valueReference": {
             "display": "Healthcare provider (location), Academisch Medisch Centrum",
             "type": "Location"
            }
           },
           {
            "url": "http://hl7.org/fhir/StructureDefinition/narrativeLink",
            "valueUrl": "urn:uuid:3898688c-df30-4d56-9c70-022e8a5cab0e#DeviceUseStatement-urn:uuid:75aa1407-651b-4b1b-9f89-0e7d48917ced"
           }
          ],
          "meta": {
           "lastUpdated": "2023-09-11T21:03:10.316+00:00",
           "source": "#EDr0Xku1jricWmrH",
           "versionId": "1"
          },
          "note": [
           {
            "text": "Laatst doorgemeten in 2011"
           }
          ],
          "reasonReference": [
           {
            "display": "Problem",
            "reference": "urn:uuid:e04ef9e8-13c3-4925-9705-5c298b940ddc",
            "type": "Condition"
           }
          ],
          "resourceType": "DeviceUseStatement",
          "status": "active",
          "subject": {
           "display": "Patient, Johanna Petronella Maria (Jo) van Putten-van der Giessen",
           "reference": "urn:uuid:1691dac6-9e84-4767-8b4f-7b151539d755",
           "type": "Patient"
          },
          "timingPeriod": {
           "start": "2004-02-10"
          }
         }
        },
        {
         "fullUrl": "urn:uuid:f4549d6e-c124-4404-b2f7-951022402755",
         "resource": {
          "device": {
           "reference": "urn:uuid:9ec46e52-5a8b-4eb2-b0c4-b01da641d610",
           "type": "Device"
          },
          "extension": [
           {
            "url": "http://hl7.org/fhir/StructureDefinition/narrativeLink",
            "valueUrl": "urn:uuid:3898688c-df30-4d56-9c70-022e8a5cab0e#DeviceUseStatement-urn:uuid:f4549d6e-c124-4404-b2f7-951022402755"
           }
          ],
          "meta": {
           "lastUpdated": "2023-09-11T21:03:11.316+00:00",
           "source": "#ysgZNvbiHWeQeIsy",
           "versionId": "1"
          },
          "reasonReference": [
           {
            "display": "Mobility observation, Rollator is eigen bezit.",
            "type": "Observation"
           }
          ],
          "resourceType": "DeviceUseStatement",
          "status": "active",
          "subject": {
           "display": "Patient, Johanna Petronella Maria (Jo) van Putten-van der Giessen",
           "reference": "urn:uuid:1691dac6-9e84-4767-8b4f-7b151539d755",
           "type": "Patient"
          }
         }
        },
        {
         "fullUrl": "urn:uuid:090cc4b6-cdea-45be-940d-d4a740b2b482",
         "resource": {
          "device": {
           "display": "Implantant, Gen 2 Tibia Insert 5/6-9mm",
           "reference": "urn:uuid:0fcaf3d5-1ea8-4586-9c93-8f3e377a95ca",
           "type": "Device"
          },
          "extension": [
           {
            "url": "http://hl7.org/fhir/StructureDefinition/narrativeLink",
            "valueUrl": "urn:uuid:3898688c-df30-4d56-9c70-022e8a5cab0e#DeviceUseStatement-urn:uuid:090cc4b6-cdea-45be-940d-d4a740b2b482"
           }
          ],
          "meta": {
           "lastUpdated": "2023-09-11T21:03:12.316+00:00",
           "source": "#TeW46GML8WZ8EDxI",
           "versionId": "1"
          },
          "resourceType": "DeviceUseStatement",
          "status": "active",
          "subject": {
           "display": "Patient, Johanna Petronella Maria (Jo) van Putten-van der Giessen",
           "reference": "urn:uuid:1691dac6-9e84-4767-8b4f-7b151539d755",
           "type": "Patient"
          }
         }
        },
        {
         "fullUrl": "urn:uuid:7108e2fd-7baf-46cd-ae16-9b78a350e24d",
         "resource": {
          "device": {
           "reference": "urn:uuid:97b39203-fb8c-4b2e-93e3-d7dab73e7e28",
           "type": "Device"
          },
          "extension": [
           {
            "url": "http://hl7.org/fhir/StructureDefinition/narrativeLink",
            "valueUrl": "urn:uuid:3898688c-df30-4d56-9c70-022e8a5cab0e#DeviceUseStatement-urn:uuid:7108e2fd-7baf-46cd-ae16-9b78a350e24d"
           }
          ],
          "meta": {
           "lastUpdated": "2023-09-11T21:03:13.316+00:00",
           "source": "#s2NyRkxrFhqp9f1y",
           "versionId": "1"
          },
          "reasonReference": [
           {
            "display": "Stoma, type: eindstandig colostoma",
            "reference": "urn:uuid:d22d2376-e553-405f-966e-d2abac7f3e5b",
            "type": "Condition"
           }
          ],
          "resourceType": "DeviceUseStatement",
          "status": "active",
          "subject": {
           "display": "Patient, Johanna Petronella Maria (Jo) van Putten-van der Giessen",
           "reference": "urn:uuid:1691dac6-9e84-4767-8b4f-7b151539d755",
           "type": "Patient"
          }
         }
        },
        {
         "fullUrl": "urn:uuid:e0d826e2-3935-419f-854e-1522d3e63fcd",
         "resource": {
          "device": {
           "display": "Leesbril",
           "reference": "urn:uuid:0cee3157-5b45-4ffb-8f2d-a1e1bac74bd0",
           "type": "Device"
          },
          "extension": [
           {
            "url": "http://hl7.org/fhir/StructureDefinition/narrativeLink",
            "valueUrl": "urn:uuid:3898688c-df30-4d56-9c70-022e8a5cab0e#DeviceUseStatement-urn:uuid:e0d826e2-3935-419f-854e-1522d3e63fcd"
           }
          ],
          "meta": {
           "lastUpdated": "2023-09-11T21:03:14.316+00:00",
           "source": "#m9XLO8d0IrELSnnv",
           "versionId": "1"
          },
          "reasonReference": [
           {
            "display": "Visual function observation, Verlies van gezichtsvermogen",
            "type": "Observation"
           }
          ],
          "resourceType": "DeviceUseStatement",
          "status": "active",
          "subject": {
           "display": "Patient, Johanna Petronella Maria (Jo) van Putten-van der Giessen",
           "reference": "urn:uuid:1691dac6-9e84-4767-8b4f-7b151539d755",
           "type": "Patient"
          }
         }
        },
        {
         "fullUrl": "urn:uuid:97b39203-fb8c-4b2e-93e3-d7dab73e7e28",
         "resource": {
          "meta": {
           "lastUpdated": "2023-09-11T21:03:04.317+00:00",
           "source": "#XfN2gRpcfD9ANxhR",
           "versionId": "1"
          },
          "patient": {
           "display": "Patient, Johanna Petronella Maria (Jo) van Putten-van der Giessen",
           "reference": "urn:uuid:1691dac6-9e84-4767-8b4f-7b151539d755",
           "type": "Patient"
          },
          "resourceType": "Device",
          "type": {
           "coding": [
            {
             "code": "416789009",
             "display": "Stomazak",
             "system": "http://snomed.info/sct"
            }
           ]
          }
         }
        },
        {
         "fullUrl": "urn:uuid:0cee3157-5b45-4ffb-8f2d-a1e1bac74bd0",
         "resource": {
          "meta": {
           "lastUpdated": "2023-09-11T21:03:05.317+00:00",
           "source": "#ypvyvP4kWyLZC6QH",
           "versionId": "1"
          },
          "note": [
           {
            "text": "Leesbril"
           }
          ],
          "patient": {
           "display": "Patient, Johanna Petronella Maria (Jo) van Putten-van der Giessen",
           "reference": "urn:uuid:1691dac6-9e84-4767-8b4f-7b151539d755",
           "type": "Patient"
          },
          "resourceType": "Device",
          "type": {
           "coding": [
            {
             "code": "423013001",
             "display": "Enkelfocale leesbril",
             "system": "http://snomed.info/sct"
            }
           ]
          }
         }
        },
        {
         "fullUrl": "urn:uuid:9ec46e52-5a8b-4eb2-b0c4-b01da641d610",
         "resource": {
          "meta": {
           "lastUpdated": "2023-09-11T21:03:02.317+00:00",
           "source": "#D7tzc84MH5am4U5B",
           "versionId": "1"
          },
          "patient": {
           "display": "Patient, Johanna Petronella Maria (Jo) van Putten-van der Giessen",
           "reference": "urn:uuid:1691dac6-9e84-4767-8b4f-7b151539d755",
           "type": "Patient"
          },
          "resourceType": "Device",
          "type": {
           "coding": [
            {
             "code": "404946006",
             "display": "Rollator",
             "system": "http://snomed.info/sct"
            }
           ]
          }
         }
        },
        {
         "fullUrl": "urn:uuid:0fcaf3d5-1ea8-4586-9c93-8f3e377a95ca",
         "resource": {
          "identifier": [
           {
            "system": "https://www.gs1.org/gtin",
            "value": "{01}05050474530799{17}160131{21}1148130801"
           }
          ],
          "meta": {
           "lastUpdated": "2023-09-11T21:03:03.318+00:00",
           "source": "#4MCTWZagGgqV9Jo0",
           "versionId": "1"
          },
          "note": [
           {
            "text": "Implantant, Gen 2 Tibia Insert 5/6-9mm"
           }
          ],
          "patient": {
           "display": "Patient, Johanna Petronella Maria (Jo) van Putten-van der Giessen",
           "reference": "urn:uuid:1691dac6-9e84-4767-8b4f-7b151539d755",
           "type": "Patient"
          },
          "resourceType": "Device",
          "type": {
           "coding": [
            {
             "code": "109228008",
             "system": "http://snomed.info/sct"
            }
           ]
          },
          "udiCarrier": [
           {
            "carrierHRF": "{01}05050474530799{17}160131{21}1148130801",
            "issuer": "https://www.gs1.org/gtin"
           }
          ]
         }
        },
        {
         "fullUrl": "urn:uuid:9d714af4-e4ec-4295-8beb-558055449dff",
         "resource": {
          "identifier": [
           {
            "system": "https://www.gs1.org/gtin",
            "value": "(01)00810323008108(17)231005(21)6789UV0"
           }
          ],
          "meta": {
           "lastUpdated": "2023-09-11T21:03:00.318+00:00",
           "source": "#v3HryNDXVKVuqVEC",
           "versionId": "1"
          },
          "note": [
           {
            "text": "TuneAmp gehoortoestel"
           }
          ],
          "patient": {
           "display": "Patient, Johanna Petronella Maria (Jo) van Putten-van der Giessen",
           "reference": "urn:uuid:1691dac6-9e84-4767-8b4f-7b151539d755",
           "type": "Patient"
          },
          "resourceType": "Device",
          "type": {
           "coding": [
            {
             "code": "360283003",
             "display": "gehoorapparaat",
             "system": "http://snomed.info/sct"
            }
           ]
          },
          "udiCarrier": [
           {
            "carrierHRF": "(01)00810323008108(17)231005(21)6789UV0",
            "issuer": "https://www.gs1.org/gtin"
           }
          ]
         }
        },
        {
         "fullUrl": "urn:uuid:49eda10d-06e7-4ddb-92be-63411b223528",
         "resource": {
          "identifier": [
           {
            "system": "urn:oid:2.16.840.1.113883.6.40",
            "value": "+A99912345/$$52001510X3/16D20111212/S77DEFG457"
           }
          ],
          "meta": {
           "lastUpdated": "2023-09-11T21:03:01.319+00:00",
           "source": "#9x2BvAiWH1GlSIeD",
           "versionId": "1"
          },
          "patient": {
           "display": "Patient, Johanna Petronella Maria (Jo) van Putten-van der Giessen",
           "reference": "urn:uuid:1691dac6-9e84-4767-8b4f-7b151539d755",
           "type": "Patient"
          },
          "resourceType": "Device",
          "type": {
           "coding": [
            {
             "code": "14106009",
             "display": "pacemaker",
             "system": "http://snomed.info/sct"
            }
           ]
          },
          "udiCarrier": [
           {
            "carrierHRF": "+A99912345/$$52001510X3/16D20111212/S77DEFG457",
            "issuer": "urn:oid:2.16.840.1.113883.6.40"
           }
          ]
         }
        },
        {
         "fullUrl": "urn:uuid:97d3e6d5-eae5-46b9-b6af-1e45a916c057",
         "resource": {
          "meta": {
           "lastUpdated": "2023-09-11T21:02:57.319+00:00",
           "source": "#l7o0gZK83TiktG0M",
           "versionId": "1"
          },
          "note": [
           {
            "text": "Ergonomisch elektrisch scheerapparaat"
           }
          ],
          "patient": {
           "display": "Patient, Johanna Petronella Maria (Jo) van Putten-van der Giessen",
           "reference": "urn:uuid:1691dac6-9e84-4767-8b4f-7b151539d755",
           "type": "Patient"
          },
          "resourceType": "Device",
          "type": {
           "coding": [
            {
             "code": "462777007",
             "display": "elektrisch scheerapparaat",
             "system": "http://snomed.info/sct"
            }
           ]
          }
         }
        },
        {
         "fullUrl": "urn:uuid:25d37b76-7111-46d3-867a-af22a3d11d51",
         "resource": {
          "identifier": [
           {
            "system": "https://www.gs1.org/gtin",
            "value": "(01)08023279277098(17)221231(10)1234AB(21)12345XYZ(11)010101"
           }
          ],
          "meta": {
           "lastUpdated": "2023-09-11T21:02:59.317+00:00",
           "source": "#sd2VSU8WhEDi554K",
           "versionId": "1"
          },
          "note": [
           {
            "text": "Standaard rolstoel, 46 cm zitting"
           }
          ],
          "patient": {
           "display": "Patient, Johanna Petronella Maria (Jo) van Putten-van der Giessen",
           "reference": "urn:uuid:1691dac6-9e84-4767-8b4f-7b151539d755",
           "type": "Patient"
          },
          "resourceType": "Device",
          "type": {
           "coding": [
            {
             "code": "58938008",
             "display": "rolstoel",
             "system": "http://snomed.info/sct"
            }
           ]
          },
          "udiCarrier": [
           {
            "carrierHRF": "(01)08023279277098(17)221231(10)1234AB(21)12345XYZ(11)010101",
            "issuer": "https://www.gs1.org/gtin"
           }
          ]
         }
        },
        {
         "fullUrl": "urn:uuid:6d20b8a3-d164-4118-9179-ad6bd3802153",
         "resource": {
          "category": [
           {
            "coding": [
             {
              "code": "laboratory",
              "display": "Laboratory",
              "system": "http://terminology.hl7.org/CodeSystem/observation-category"
             }
            ]
           },
           {
            "coding": [
             {
              "code": "275711006",
              "display": "Serumtest",
              "system": "http://snomed.info/sct"
             }
            ]
           }
          ],
          "code": {
           "coding": [
            {
             "code": "2947-0",
             "display": "Sodium [Moles/volume] in Blood",
             "system": "http://loinc.org"
            }
           ]
          },
          "effectiveDateTime": "2021-06-12T13:15:00+02:00",
          "extension": [
           {
            "url": "http://hl7.org/fhir/StructureDefinition/narrativeLink",
            "valueUrl": "urn:uuid:3898688c-df30-4d56-9c70-022e8a5cab0e#Observation-urn:uuid:6d20b8a3-d164-4118-9179-ad6bd3802153"
           }
          ],
          "meta": {
           "lastUpdated": "2023-09-11T21:01:21.377+00:00",
           "source": "#0gPm5xVlIVu6QlEm",
           "versionId": "1"
          },
          "referenceRange": [
           {
            "high": {
             "code": "mmol/l",
             "system": "http://unitsofmeasure.org",
             "unit": "mmol/l",
             "value": 146
            },
            "low": {
             "code": "mmol/l",
             "system": "http://unitsofmeasure.org",
             "unit": "mmol/l",
             "value": 136
            }
           }
          ],
          "resourceType": "Observation",
          "specimen": {
           "display": "monster",
           "type": "Specimen"
          },
          "status": "final",
          "subject": {
           "display": "Patient, Johanna Petronella Maria (Jo) van Putten-van der Giessen",
           "reference": "urn:uuid:1691dac6-9e84-4767-8b4f-7b151539d755",
           "type": "Patient"
          },
          "valueQuantity": {
           "code": "mmol/l",
           "system": "http://unitsofmeasure.org",
           "unit": "mmol/l",
           "value": 138
          }
         }
        },
        {
         "fullUrl": "urn:uuid:e4f6a4ac-1c07-4779-9581-d4a0201c41a5",
         "resource": {
          "category": [
           {
            "coding": [
             {
              "code": "laboratory",
              "display": "Laboratory",
              "system": "http://terminology.hl7.org/CodeSystem/observation-category"
             }
            ]
           },
           {
            "coding": [
             {
              "code": "395124008",
              "display": "Virologisch onderzoek",
              "system": "http://snomed.info/sct"
             }
            ]
           }
          ],
          "code": {
           "coding": [
            {
             "code": "22314-9",
             "display": "Hepatitis A virus IgM Ab [Presence] in Serum",
             "system": "http://loinc.org"
            }
           ]
          },
          "effectiveDateTime": "2012-01-16T10:12:00+00:00",
          "extension": [
           {
            "url": "http://hl7.org/fhir/StructureDefinition/narrativeLink",
            "valueUrl": "urn:uuid:3898688c-df30-4d56-9c70-022e8a5cab0e#Observation-urn:uuid:e4f6a4ac-1c07-4779-9581-d4a0201c41a5"
           }
          ],
          "meta": {
           "lastUpdated": "2023-09-11T21:01:23.376+00:00",
           "source": "#yZJJLs1hYA0OEgkM",
           "versionId": "1"
          },
          "resourceType": "Observation",
          "specimen": {
           "display": "monster",
           "type": "Specimen"
          },
          "status": "final",
          "subject": {
           "display": "Patient, Johanna Petronella Maria (Jo) van Putten-van der Giessen",
           "reference": "urn:uuid:1691dac6-9e84-4767-8b4f-7b151539d755",
           "type": "Patient"
          },
          "valueCodeableConcept": {
           "coding": [
            {
             "code": "165996008",
             "display": "hepatitis A-test negatief",
             "system": "http://snomed.info/sct"
            }
           ]
          }
         }
        },
        {
         "fullUrl": "urn:uuid:eace9807-27e7-4678-bdee-26fd9501b9a5",
         "resource": {
          "category": [
           {
            "coding": [
             {
              "code": "laboratory",
              "display": "Laboratory",
              "system": "http://terminology.hl7.org/CodeSystem/observation-category"
             }
            ]
           },
           {
            "coding": [
             {
              "code": "275711006",
              "display": "Serumtest",
              "system": "http://snomed.info/sct"
             }
            ]
           }
          ],
          "code": {
           "coding": [
            {
             "code": "718-7",
             "display": "Hemoglobine",
             "system": "http://loinc.org"
            }
           ]
          },
          "effectiveDateTime": "2022-01-02T12:00:00+01:00",
          "extension": [
           {
            "url": "http://hl7.org/fhir/StructureDefinition/narrativeLink",
            "valueUrl": "urn:uuid:3898688c-df30-4d56-9c70-022e8a5cab0e#Observation-urn:uuid:eace9807-27e7-4678-bdee-26fd9501b9a5"
           }
          ],
          "interpretation": [
           {
            "coding": [
             {
              "code": "281300000",
              "display": "Onder referentiebereik",
              "system": "http://snomed.info/sct"
             }
            ]
           }
          ],
          "meta": {
           "lastUpdated": "2023-09-11T21:01:25.376+00:00",
           "source": "#6mZnMh1hI8qDNUQ7",
           "versionId": "1"
          },
          "referenceRange": [
           {
            "high": {
             "code": "mmol/l",
             "system": "http://unitsofmeasure.org",
             "unit": "mmol/l",
             "value": 16
            },
            "low": {
             "code": "mmol/l",
             "system": "http://unitsofmeasure.org",
             "unit": "mmol/l",
             "value": 12
            }
           }
          ],
          "resourceType": "Observation",
          "specimen": {
           "display": "monster",
           "type": "Specimen"
          },
          "status": "final",
          "subject": {
           "display": "Patient, Johanna Petronella Maria (Jo) van Putten-van der Giessen",
           "reference": "urn:uuid:1691dac6-9e84-4767-8b4f-7b151539d755",
           "type": "Patient"
          },
          "valueQuantity": {
           "code": "mmol/l",
           "system": "http://unitsofmeasure.org",
           "unit": "mmol/l",
           "value": 11.5
          }
         }
        },
        {
         "fullUrl": "urn:uuid:cdf7de10-e357-47f1-9943-df12a07baa7d",
         "resource": {
          "category": [
           {
            "coding": [
             {
              "code": "laboratory",
              "display": "Laboratory",
              "system": "http://terminology.hl7.org/CodeSystem/observation-category"
             }
            ]
           },
           {
            "coding": [
             {
              "code": "275711006",
              "display": "Serumtest",
              "system": "http://snomed.info/sct"
             }
            ]
           }
          ],
          "code": {
           "coding": [
            {
             "code": "20570-8",
             "display": "Hematocriet",
             "system": "http://loinc.org"
            }
           ]
          },
          "effectiveDateTime": "2022-01-02T12:00:02+01:00",
          "extension": [
           {
            "url": "http://hl7.org/fhir/StructureDefinition/narrativeLink",
            "valueUrl": "urn:uuid:3898688c-df30-4d56-9c70-022e8a5cab0e#Observation-urn:uuid:cdf7de10-e357-47f1-9943-df12a07baa7d"
           }
          ],
          "meta": {
           "lastUpdated": "2023-09-11T21:01:26.376+00:00",
           "source": "#kUgCTOgHBnZoHxzM",
           "versionId": "1"
          },
          "referenceRange": [
           {
            "high": {
             "code": "%",
             "system": "http://unitsofmeasure.org",
             "unit": "%",
             "value": 51
            },
            "low": {
             "code": "%",
             "system": "http://unitsofmeasure.org",
             "unit": "%",
             "value": 39
            }
           }
          ],
          "resourceType": "Observation",
          "specimen": {
           "display": "monster",
           "type": "Specimen"
          },
          "status": "final",
          "subject": {
           "display": "Patient, Johanna Petronella Maria (Jo) van Putten-van der Giessen",
           "reference": "urn:uuid:1691dac6-9e84-4767-8b4f-7b151539d755",
           "type": "Patient"
          },
          "valueQuantity": {
           "code": "%",
           "system": "http://unitsofmeasure.org",
           "unit": "%",
           "value": 45
          }
         }
        },
        {
         "fullUrl": "urn:uuid:a01671ef-c342-49ba-b136-61317e9235e6",
         "resource": {
          "category": [
           {
            "coding": [
             {
              "code": "laboratory",
              "display": "Laboratory",
              "system": "http://terminology.hl7.org/CodeSystem/observation-category"
             }
            ]
           },
           {
            "coding": [
             {
              "code": "275711006",
              "display": "Serumtest",
              "system": "http://snomed.info/sct"
             }
            ]
           }
          ],
          "code": {
           "coding": [
            {
             "code": "24360-0",
             "display": "hemoglobine & hematocriet panel",
             "system": "http://loinc.org"
            }
           ]
          },
          "extension": [
           {
            "url": "http://hl7.org/fhir/StructureDefinition/narrativeLink",
            "valueUrl": "urn:uuid:3898688c-df30-4d56-9c70-022e8a5cab0e#Observation-urn:uuid:a01671ef-c342-49ba-b136-61317e9235e6"
           }
          ],
          "hasMember": [
           {
            "display": "laboratorium_test",
            "reference": "urn:uuid:eace9807-27e7-4678-bdee-26fd9501b9a5",
            "type": "Observation"
           },
           {
            "display": "laboratorium_test",
            "reference": "urn:uuid:cdf7de10-e357-47f1-9943-df12a07baa7d",
            "type": "Observation"
           }
          ],
          "meta": {
           "lastUpdated": "2023-09-11T21:21:40.857+00:00",
           "source": "#RtVdhdtFkHdkc4Oq",
           "versionId": "1"
          },
          "resourceType": "Observation",
          "specimen": {
           "display": "monster",
           "type": "Specimen"
          },
          "status": "final",
          "subject": {
           "display": "Patient, Johanna Petronella Maria (Jo) van Putten-van der Giessen",
           "reference": "urn:uuid:1691dac6-9e84-4767-8b4f-7b151539d755",
           "type": "Patient"
          }
         }
        },
        {
         "fullUrl": "urn:uuid:df810fa6-672f-4f99-a486-af377fb3fa10",
         "resource": {
          "bodySite": {
           "coding": [
            {
             "code": "368209003",
             "display": "Rechter bovenarm",
             "system": "http://snomed.info/sct"
            }
           ]
          },
          "category": [
           {
            "coding": [
             {
              "code": "vital-signs",
              "display": "Vital Signs",
              "system": "http://terminology.hl7.org/CodeSystem/observation-category"
             }
            ]
           }
          ],
          "code": {
           "coding": [
            {
             "code": "85354-9",
             "display": "Blood pressure panel with all children optional",
             "system": "http://loinc.org"
            }
           ]
          },
          "component": [
           {
            "code": {
             "coding": [
              {
               "code": "8480-6",
               "display": "Systolic blood pressure",
               "system": "http://loinc.org"
              }
             ]
            },
            "valueQuantity": {
             "code": "mm[Hg]",
             "system": "http://unitsofmeasure.org",
             "unit": "mmHg",
             "value": 125
            }
           },
           {
            "code": {
             "coding": [
              {
               "code": "8462-4",
               "display": "Diastolic blood pressure",
               "system": "http://loinc.org"
              }
             ]
            },
            "valueQuantity": {
             "code": "mm[Hg]",
             "system": "http://unitsofmeasure.org",
             "unit": "mmHg",
             "value": 75
            }
           },
           {
            "code": {
             "coding": [
              {
               "code": "85549003",
               "display": "Korotkofftonen (waarneembare entiteit)",
               "system": "http://snomed.info/sct"
              }
             ]
            },
            "valueCodeableConcept": {
             "coding": [
              {
               "code": "255271000",
               "display": "Fase 4",
               "system": "http://snomed.info/sct"
              }
             ]
            }
           },
           {
            "code": {
             "coding": [
              {
               "code": "70665002",
               "display": "Blood pressure cuff",
               "system": "http://snomed.info/sct"
              }
             ]
            },
            "valueCodeableConcept": {
             "coding": [
              {
               "code": "STD",
               "display": "Standaard (Standaard manchet voor een volwassene (manchet 16x30 cm)",
               "system": "urn:oid:2.16.840.1.113883.2.4.3.11.60.40.4.15.1"
              }
             ]
            }
           },
           {
            "code": {
             "coding": [
              {
               "code": "6797001",
               "display": "gemiddelde bloeddruk (waarneembare entiteit)",
               "system": "http://snomed.info/sct"
              }
             ]
            },
            "valueQuantity": {
             "code": "mm[Hg]",
             "system": "http://unitsofmeasure.org",
             "unit": "mmHg",
             "value": 100
            }
           }
          ],
          "effectiveDateTime": "2013-02-08T06:43:00+01:00",
          "extension": [
           {
            "url": "http://hl7.org/fhir/StructureDefinition/observation-bodyPosition",
            "valueCodeableConcept": {
             "coding": [
              {
               "code": "33586001",
               "display": "Zittende positie",
               "system": "http://snomed.info/sct"
              }
             ]
            }
           },
           {
            "url": "http://hl7.org/fhir/StructureDefinition/narrativeLink",
            "valueUrl": "urn:uuid:3898688c-df30-4d56-9c70-022e8a5cab0e#Observation-urn:uuid:df810fa6-672f-4f99-a486-af377fb3fa10"
           }
          ],
          "meta": {
           "lastUpdated": "2023-09-14T16:37:42.033+00:00",
           "source": "#yXbZtkSWtpBkyi7J",
           "versionId": "2"
          },
          "method": {
           "coding": [
            {
             "code": "371911009",
             "display": "Bloeddrukmeting met gebruikmaking van manchet",
             "system": "http://snomed.info/sct"
            }
           ]
          },
          "resourceType": "Observation",
          "status": "final",
          "subject": {
           "display": "Patient, Johanna Petronella Maria (Jo) van Putten-van der Giessen",
           "reference": "urn:uuid:1691dac6-9e84-4767-8b4f-7b151539d755",
           "type": "Patient"
          }
         }
        },
        {
         "fullUrl": "urn:uuid:693c48cc-9999-4ec3-80ee-45b35adee6f4",
         "resource": {
          "category": [
           {
            "coding": [
             {
              "code": "vital-signs",
              "display": "Vital Signs",
              "system": "http://terminology.hl7.org/CodeSystem/observation-category"
             }
            ]
           }
          ],
          "code": {
           "coding": [
            {
             "code": "8302-2",
             "display": "Body height",
             "system": "http://loinc.org"
            }
           ]
          },
          "component": [
           {
            "code": {
             "coding": [
              {
               "code": "425260001",
               "display": "Body position for height measurement",
               "system": "http://snomed.info/sct"
              }
             ]
            },
            "valueCodeableConcept": {
             "coding": [
              {
               "code": "10904000",
               "display": "Staande positie",
               "system": "http://snomed.info/sct"
              }
             ]
            }
           }
          ],
          "effectiveDateTime": "2013-02-08T06:43:00+01:00",
          "extension": [
           {
            "url": "http://hl7.org/fhir/StructureDefinition/narrativeLink",
            "valueUrl": "urn:uuid:3898688c-df30-4d56-9c70-022e8a5cab0e#Observation-urn:uuid:693c48cc-9999-4ec3-80ee-45b35adee6f4"
           }
          ],
          "meta": {
           "lastUpdated": "2023-09-11T21:01:02.379+00:00",
           "source": "#faHsCMrjhNdWnb34",
           "versionId": "1"
          },
          "note": [
           {
            "text": "Met schoenen aan"
           }
          ],
          "resourceType": "Observation",
          "status": "final",
          "subject": {
           "display": "Patient, Johanna Petronella Maria (Jo) van Putten-van der Giessen",
           "reference": "urn:uuid:1691dac6-9e84-4767-8b4f-7b151539d755",
           "type": "Patient"
          },
          "valueQuantity": {
           "code": "cm",
           "system": "http://unitsofmeasure.org",
           "unit": "cm",
           "value": 153
          }
         }
        },
        {
         "fullUrl": "urn:uuid:6dcaa528-3206-49a4-8197-75270744aad7",
         "resource": {
          "category": [
           {
            "coding": [
             {
              "code": "vital-signs",
              "display": "Vital Signs",
              "system": "http://terminology.hl7.org/CodeSystem/observation-category"
             }
            ]
           }
          ],
          "code": {
           "coding": [
            {
             "code": "8310-5",
             "display": "Body temperature",
             "system": "http://loinc.org"
            },
            {
             "code": "415974002",
             "display": "Tympanische temperatuur",
             "system": "http://snomed.info/sct"
            }
           ]
          },
          "effectiveDateTime": "2013-02-08T06:43:00+02:00",
          "extension": [
           {
            "url": "http://hl7.org/fhir/StructureDefinition/narrativeLink",
            "valueUrl": "urn:uuid:3898688c-df30-4d56-9c70-022e8a5cab0e#Observation-urn:uuid:6dcaa528-3206-49a4-8197-75270744aad7"
           }
          ],
          "meta": {
           "lastUpdated": "2023-09-11T21:01:03.378+00:00",
           "source": "#fK3Zqt7LZ6knNamC",
           "versionId": "1"
          },
          "note": [
           {
            "text": "Voeten voelen heel koud aan"
           }
          ],
          "resourceType": "Observation",
          "status": "final",
          "subject": {
           "display": "Patient, Johanna Petronella Maria (Jo) van Putten-van der Giessen",
           "reference": "urn:uuid:1691dac6-9e84-4767-8b4f-7b151539d755",
           "type": "Patient"
          },
          "valueQuantity": {
           "code": "Cel",
           "system": "http://unitsofmeasure.org",
           "unit": "Cel",
           "value": 38.6
          }
         }
        },
        {
         "fullUrl": "urn:uuid:f7a75155-0956-4936-9730-a4d678295d52",
         "resource": {
          "category": [
           {
            "coding": [
             {
              "code": "vital-signs",
              "display": "Vital Signs",
              "system": "http://terminology.hl7.org/CodeSystem/observation-category"
             }
            ]
           }
          ],
          "code": {
           "coding": [
            {
             "code": "29463-7",
             "display": "Body weight",
             "system": "http://loinc.org"
            }
           ]
          },
          "component": [
           {
            "code": {
             "coding": [
              {
               "code": "248159006",
               "display": "State of dress",
               "system": "http://snomed.info/sct"
              }
             ]
            },
            "valueCodeableConcept": {
             "coding": [
              {
               "code": "DIAPER",
               "display": "Diaper",
               "system": "urn:oid:2.16.840.1.113883.2.4.3.11.60.40.4.8.1"
              }
             ]
            }
           }
          ],
          "effectiveDateTime": "2013-02-06",
          "extension": [
           {
            "url": "http://hl7.org/fhir/StructureDefinition/narrativeLink",
            "valueUrl": "urn:uuid:3898688c-df30-4d56-9c70-022e8a5cab0e#Observation-urn:uuid:f7a75155-0956-4936-9730-a4d678295d52"
           }
          ],
          "meta": {
           "lastUpdated": "2023-09-11T21:01:04.378+00:00",
           "source": "#fzW3q8EcihdwrizS",
           "versionId": "1"
          },
          "note": [
           {
            "text": "Luier woog 320 gram"
           }
          ],
          "resourceType": "Observation",
          "status": "final",
          "subject": {
           "display": "Patient, Johanna Petronella Maria (Jo) van Putten-van der Giessen",
           "reference": "urn:uuid:1691dac6-9e84-4767-8b4f-7b151539d755",
           "type": "Patient"
          },
          "valueQuantity": {
           "code": "g",
           "system": "http://unitsofmeasure.org",
           "unit": "gram",
           "value": 2400
          }
         }
        },
        {
         "fullUrl": "urn:uuid:657f29e3-3f2b-4c25-88a7-f3a390dc1760",
         "resource": {
          "category": [
           {
            "coding": [
             {
              "code": "vital-signs",
              "display": "Vital Signs",
              "system": "http://terminology.hl7.org/CodeSystem/observation-category"
             }
            ]
           }
          ],
          "code": {
           "coding": [
            {
             "code": "9843-4",
             "display": "Head Occipital-frontal circumference",
             "system": "http://loinc.org"
            }
           ]
          },
          "effectiveDateTime": "2021-06-22",
          "extension": [
           {
            "url": "http://hl7.org/fhir/StructureDefinition/narrativeLink",
            "valueUrl": "urn:uuid:3898688c-df30-4d56-9c70-022e8a5cab0e#Observation-urn:uuid:657f29e3-3f2b-4c25-88a7-f3a390dc1760"
           }
          ],
          "meta": {
           "lastUpdated": "2023-09-11T21:01:17.377+00:00",
           "source": "#gu4SkSyYs9UW16b7",
           "versionId": "1"
          },
          "method": {
           "coding": [
            {
             "code": "31561000146107",
             "display": "Ultrasound measurement of skull circumference",
             "system": "http://snomed.info/sct"
            }
           ]
          },
          "note": [
           {
            "text": "Gemeten bij 3 maanden"
           }
          ],
          "resourceType": "Observation",
          "status": "final",
          "subject": {
           "display": "Patient, Johanna Petronella Maria (Jo) van Putten-van der Giessen",
           "reference": "urn:uuid:1691dac6-9e84-4767-8b4f-7b151539d755",
           "type": "Patient"
          },
          "valueQuantity": {
           "code": "cm",
           "system": "http://unitsofmeasure.org",
           "unit": "cm",
           "value": 41
          }
         }
        },
        {
         "fullUrl": "urn:uuid:26e3f779-2306-400e-a0e7-6ec4b96ca9e2",
         "resource": {
          "category": [
           {
            "coding": [
             {
              "code": "vital-signs",
              "display": "Vital Signs",
              "system": "http://terminology.hl7.org/CodeSystem/observation-category"
             }
            ]
           }
          ],
          "code": {
           "coding": [
            {
             "code": "8867-4",
             "display": "Heart rate",
             "system": "http://loinc.org"
            }
           ]
          },
          "component": [
           {
            "code": {
             "coding": [
              {
               "code": "301112006",
               "display": "Finding of heart rhythm",
               "system": "http://snomed.info/sct"
              }
             ]
            },
            "valueCodeableConcept": {
             "coding": [
              {
               "code": "361137007",
               "display": "Onregelmatige hartslag",
               "system": "http://snomed.info/sct"
              }
             ]
            }
           },
           {
            "code": {
             "coding": [
              {
               "code": "301113001",
               "display": "Finding of heart rate",
               "system": "http://snomed.info/sct"
              }
             ]
            },
            "valueCodeableConcept": {
             "coding": [
              {
               "code": "48867003",
               "display": "Bradycardie",
               "system": "http://snomed.info/sct"
              }
             ]
            }
           }
          ],
          "effectiveDateTime": "2013-02-08T06:43:00+02:00",
          "extension": [
           {
            "url": "http://hl7.org/fhir/StructureDefinition/narrativeLink",
            "valueUrl": "urn:uuid:3898688c-df30-4d56-9c70-022e8a5cab0e#Observation-urn:uuid:26e3f779-2306-400e-a0e7-6ec4b96ca9e2"
           }
          ],
          "meta": {
           "lastUpdated": "2023-09-11T21:01:19.378+00:00",
           "source": "#7auFVMltm5o3ozHe",
           "versionId": "1"
          },
          "method": {
           "coding": [
            {
             "code": "37931006",
             "display": "Auscultatie",
             "system": "http://snomed.info/sct"
            }
           ]
          },
          "note": [
           {
            "text": "Misschien bigeminie?"
           }
          ],
          "resourceType": "Observation",
          "status": "final",
          "subject": {
           "display": "Patient, Johanna Petronella Maria (Jo) van Putten-van der Giessen",
           "reference": "urn:uuid:1691dac6-9e84-4767-8b4f-7b151539d755",
           "type": "Patient"
          },
          "valueQuantity": {
           "code": "/min",
           "system": "http://unitsofmeasure.org",
           "unit": "/min",
           "value": 126
          }
         }
        },
        {
         "fullUrl": "urn:uuid:32df6424-3501-49e9-86a6-03726ffdfd94",
         "resource": {
          "category": [
           {
            "coding": [
             {
              "code": "vital-signs",
              "display": "Vital Signs",
              "system": "http://terminology.hl7.org/CodeSystem/observation-category"
             }
            ]
           }
          ],
          "code": {
           "coding": [
            {
             "code": "2708-6",
             "display": "Oxygen saturation in Arterial blood",
             "system": "http://loinc.org"
            },
            {
             "code": "59408-5",
             "display": "Oxygen saturation in Arterial blood by Pulse oximetry",
             "system": "http://loinc.org"
            }
           ]
          },
          "component": [
           {
            "code": {
             "coding": [
              {
               "code": "57485005",
               "display": "zuurstoftherapie",
               "system": "http://snomed.info/sct"
              }
             ]
            },
            "valueBoolean": true
           }
          ],
          "effectiveDateTime": "2013-02-08T06:43:00+02:00",
          "extension": [
           {
            "url": "http://hl7.org/fhir/StructureDefinition/narrativeLink",
            "valueUrl": "urn:uuid:3898688c-df30-4d56-9c70-022e8a5cab0e#Observation-urn:uuid:32df6424-3501-49e9-86a6-03726ffdfd94"
           }
          ],
          "meta": {
           "lastUpdated": "2023-09-11T21:01:31.376+00:00",
           "source": "#MDh6NrMn5F1Thos2",
           "versionId": "1"
          },
          "note": [
           {
            "text": "Stijgt snel bij aanspreken"
           }
          ],
          "resourceType": "Observation",
          "status": "final",
          "subject": {
           "display": "Patient, Johanna Petronella Maria (Jo) van Putten-van der Giessen",
           "reference": "urn:uuid:1691dac6-9e84-4767-8b4f-7b151539d755",
           "type": "Patient"
          },
          "valueQuantity": {
           "code": "%",
           "system": "http://unitsofmeasure.org",
           "unit": "%",
           "value": 92
          }
         }
        },
        {
         "fullUrl": "urn:uuid:b4b9e6e6-ee8a-4190-93eb-0e784ddfc0d0",
         "resource": {
          "category": [
           {
            "coding": [
             {
              "code": "vital-signs",
              "display": "Vital Signs",
              "system": "http://terminology.hl7.org/CodeSystem/observation-category"
             }
            ]
           }
          ],
          "code": {
           "coding": [
            {
             "code": "8893-0",
             "display": "Heart rate Peripheral artery by palpation",
             "system": "http://loinc.org"
            }
           ]
          },
          "component": [
           {
            "code": {
             "coding": [
              {
               "code": "44969-4",
               "display": "Heart rate rhythm palpation",
               "system": "http://loinc.org"
              }
             ]
            },
            "valueCodeableConcept": {
             "coding": [
              {
               "code": "61086009",
               "display": "onregelmatige pulsaties",
               "system": "http://snomed.info/sct"
              }
             ]
            }
           }
          ],
          "effectiveDateTime": "2013-02-08T06:43:00+01:00",
          "extension": [
           {
            "url": "http://hl7.org/fhir/StructureDefinition/narrativeLink",
            "valueUrl": "urn:uuid:3898688c-df30-4d56-9c70-022e8a5cab0e#Observation-urn:uuid:b4b9e6e6-ee8a-4190-93eb-0e784ddfc0d0"
           }
          ],
          "meta": {
           "lastUpdated": "2023-09-11T21:01:39.377+00:00",
           "source": "#lDBKQwH83pqPrkRX",
           "versionId": "1"
          },
          "note": [
           {
            "text": "Sportvrouw"
           }
          ],
          "resourceType": "Observation",
          "status": "final",
          "subject": {
           "display": "Patient, Johanna Petronella Maria (Jo) van Putten-van der Giessen",
           "reference": "urn:uuid:1691dac6-9e84-4767-8b4f-7b151539d755",
           "type": "Patient"
          },
          "valueQuantity": {
           "code": "/min",
           "system": "http://unitsofmeasure.org",
           "unit": "/min",
           "value": 50
          }
         }
        },
        {
         "fullUrl": "urn:uuid:b6f54ce1-76d3-4f69-a130-8209fe818794",
         "resource": {
          "abatementDateTime": "2020-01-01",
          "category": [
           {
            "coding": [
             {
              "code": "303186005",
              "display": "juridische status van patiÃ«nt",
              "system": "http://snomed.info/sct"
             }
            ]
           }
          ],
          "clinicalStatus": {
           "coding": [
            {
             "code": "inactive",
             "display": "Inactive",
             "system": "http://terminology.hl7.org/CodeSystem/condition-clinical"
            }
           ]
          },
          "code": {
           "coding": [
            {
             "code": "OTS",
             "display": "Onder toezichtstelling (ots)",
             "system": "urn:oid:2.16.840.1.113883.2.4.3.11.60.40.4.23.2"
            }
           ]
          },
          "extension": [
           {
            "url": "http://hl7.org/fhir/StructureDefinition/narrativeLink",
            "valueUrl": "urn:uuid:3898688c-df30-4d56-9c70-022e8a5cab0e#Condition-urn:uuid:b6f54ce1-76d3-4f69-a130-8209fe818794"
           }
          ],
          "meta": {
           "lastUpdated": "2023-09-11T21:02:22.596+00:00",
           "source": "#8XT7XbXralvJipU0",
           "versionId": "1"
          },
          "onsetDateTime": "2018-01-01",
          "resourceType": "Condition",
          "subject": {
           "display": "Patient, Johanna Petronella Maria J.P.M. Jo van Putten van der Giessen",
           "reference": "urn:uuid:1691dac6-9e84-4767-8b4f-7b151539d755",
           "type": "Patient"
          }
         }
        },
        {
         "fullUrl": "urn:uuid:4c61a4af-3ddd-4a9f-9f80-24948cada6ff",
         "resource": {
          "abatementDateTime": "2020-01-01",
          "category": [
           {
            "coding": [
             {
              "code": "151701000146105",
              "display": "type voogd",
              "system": "http://snomed.info/sct"
             }
            ]
           }
          ],
          "clinicalStatus": {
           "coding": [
            {
             "code": "inactive",
             "display": "Inactive",
             "system": "http://terminology.hl7.org/CodeSystem/condition-clinical"
            }
           ]
          },
          "code": {
           "coding": [
            {
             "code": "7",
             "display": "Bewindvoering",
             "system": "urn:oid:2.16.840.1.113883.2.4.3.11.60.40.4.23.3"
            }
           ]
          },
          "extension": [
           {
            "url": "http://hl7.org/fhir/StructureDefinition/narrativeLink",
            "valueUrl": "urn:uuid:3898688c-df30-4d56-9c70-022e8a5cab0e#Condition-urn:uuid:4c61a4af-3ddd-4a9f-9f80-24948cada6ff"
           }
          ],
          "meta": {
           "lastUpdated": "2023-09-11T21:02:23.597+00:00",
           "source": "#kYb9ndUzKU7jrYsQ",
           "versionId": "1"
          },
          "onsetDateTime": "2018-01-01",
          "resourceType": "Condition",
          "subject": {
           "display": "Patient, Johanna Petronella Maria J.P.M. Jo van Putten van der Giessen",
           "reference": "urn:uuid:1691dac6-9e84-4767-8b4f-7b151539d755",
           "type": "Patient"
          }
         }
        },
        {
         "fullUrl": "urn:uuid:1949d5b8-6504-431b-905e-e8778628fe67",
         "resource": {
          "bodySite": [
           {
            "coding": [
             {
              "code": "26893007",
              "display": "lies",
              "system": "http://snomed.info/sct"
             }
            ],
            "extension": [
             {
              "url": "http://nictiz.nl/fhir/StructureDefinition/ext-AnatomicalLocation.Laterality",
              "valueCodeableConcept": {
               "coding": [
                {
                 "code": "7771000",
                 "display": "links",
                 "system": "http://snomed.info/sct"
                }
               ]
              }
             }
            ]
           }
          ],
          "category": [
           {
            "coding": [
             {
              "code": "95320005",
              "display": "aandoening van huid",
              "system": "http://snomed.info/sct"
             }
            ]
           }
          ],
          "clinicalStatus": {
           "coding": [
            {
             "code": "inactive",
             "display": "Not active",
             "system": "http://terminology.hl7.org/CodeSystem/condition-clinical"
            }
           ]
          },
          "code": {
           "coding": [
            {
             "code": "402276007",
             "display": "irritatief contacteczeem door incontinentie",
             "system": "http://snomed.info/sct"
            }
           ]
          },
          "extension": [
           {
            "url": "http://hl7.org/fhir/StructureDefinition/condition-dueTo",
            "valueReference": {
             "display": "Problem",
             "reference": "urn:uuid:8b96b92e-5d54-4e5c-a9a0-ef0ca2e1dd94",
             "type": "Condition"
            }
           },
           {
            "url": "http://hl7.org/fhir/StructureDefinition/narrativeLink",
            "valueUrl": "urn:uuid:3898688c-df30-4d56-9c70-022e8a5cab0e#Condition-urn:uuid:1949d5b8-6504-431b-905e-e8778628fe67"
           }
          ],
          "meta": {
           "lastUpdated": "2023-09-14T16:58:32.398+00:00",
           "source": "#qCkhY6f0NH5nQAmN",
           "versionId": "2"
          },
          "note": [
           {
            "text": "Intacte velrode huid met glanzend aspect."
           }
          ],
          "onsetDateTime": "2014-09-10",
          "resourceType": "Condition",
          "subject": {
           "display": "Patient, Johanna Petronella Maria (Jo) van Putten-van der Giessen",
           "reference": "urn:uuid:1691dac6-9e84-4767-8b4f-7b151539d755",
           "type": "Patient"
          }
         }
        },
        {
         "fullUrl": "urn:uuid:8b96b92e-5d54-4e5c-a9a0-ef0ca2e1dd94",
         "resource": {
          "clinicalStatus": {
           "coding": [
            {
             "code": "inactive",
             "display": "Not active",
             "system": "http://terminology.hl7.org/CodeSystem/condition-clinical"
            }
           ]
          },
          "code": {
           "coding": [
            {
             "code": "165232002",
             "display": "urine-incontinentie",
             "system": "http://snomed.info/sct"
            }
           ]
          },
          "extension": [
           {
            "url": "http://hl7.org/fhir/StructureDefinition/narrativeLink",
            "valueUrl": "urn:uuid:3898688c-df30-4d56-9c70-022e8a5cab0e#Condition-urn:uuid:8b96b92e-5d54-4e5c-a9a0-ef0ca2e1dd94"
           }
          ],
          "meta": {
           "lastUpdated": "2023-09-14T16:58:33.397+00:00",
           "source": "#oMOnuZg0oGTL6KqE",
           "versionId": "2"
          },
          "onsetDateTime": "2014-06-01",
          "resourceType": "Condition",
          "subject": {
           "display": "Patient, Johanna Petronella Maria (Jo) van Putten-van der Giessen",
           "reference": "urn:uuid:1691dac6-9e84-4767-8b4f-7b151539d755",
           "type": "Patient"
          }
         }
        },
        {
         "fullUrl": "urn:uuid:24a4ce03-010c-4738-a52e-a2ffd5da99e3",
         "resource": {
          "category": [
           {
            "coding": [
             {
              "code": "acd",
              "display": "Advance Directive",
              "system": "http://terminology.hl7.org/CodeSystem/consentcategorycodes"
             }
            ]
           }
          ],
          "dateTime": "2011-08-15",
          "extension": [
           {
            "url": "http://nictiz.nl/fhir/StructureDefinition/ext-AdvanceDirective.Disorder",
            "valueReference": {
             "display": "Problem",
             "reference": "urn:uuid:5048222b-af51-44f2-aeac-2e18a41a643a",
             "type": "Condition"
            }
           },
           {
            "url": "http://nictiz.nl/fhir/StructureDefinition/ext-Comment",
            "valueString": "Niet-reanimerenpenning"
           },
           {
            "url": "http://hl7.org/fhir/StructureDefinition/narrativeLink",
            "valueUrl": "urn:uuid:3898688c-df30-4d56-9c70-022e8a5cab0e#Consent-urn:uuid:24a4ce03-010c-4738-a52e-a2ffd5da99e3"
           }
          ],
          "meta": {
           "lastUpdated": "2023-09-11T21:20:32.983+00:00",
           "source": "#YuppQ5XDRtaJymE4",
           "versionId": "1"
          },
          "patient": {
           "display": "Patient, Johanna Petronella Maria (Jo) van Putten-van der Giessen",
           "reference": "urn:uuid:1691dac6-9e84-4767-8b4f-7b151539d755",
           "type": "Patient"
          },
          "policy": [
           {
            "uri": "https://wetten.overheid.nl/"
           }
          ],
          "provision": {
           "actor": [
            {
             "reference": {
              "display": "Contact person, J.P.M. Pietersen",
              "type": "RelatedPerson"
             },
             "role": {
              "coding": [
               {
                "code": "RESPRSN",
                "display": "responsible party",
                "system": "http://terminology.hl7.org/CodeSystem/v3-RoleCode"
               }
              ]
             }
            }
           ],
           "code": [
            {
             "coding": [
              {
               "code": "NR",
               "display": "Niet reanimeren verklaring",
               "system": "urn:oid:2.16.840.1.113883.2.4.3.11.60.40.4.14.1"
              }
             ]
            }
           ]
          },
          "resourceType": "Consent",
          "scope": {
           "coding": [
            {
             "code": "adr",
             "display": "Advanced Care Directive",
             "system": "http://terminology.hl7.org/CodeSystem/consentscope"
            }
           ]
          },
          "status": "active"
         }
        },
        {
         "fullUrl": "urn:uuid:52908a34-bb07-45ae-b076-407571e8c155",
         "resource": {
          "category": [
           {
            "coding": [
             {
              "code": "acd",
              "display": "Advance Directive",
              "system": "http://terminology.hl7.org/CodeSystem/consentcategorycodes"
             }
            ]
           }
          ],
          "dateTime": "2010-05-06",
          "extension": [
           {
            "url": "http://nictiz.nl/fhir/StructureDefinition/ext-Comment",
            "valueString": "volmacht aan echtgenote"
           },
           {
            "url": "http://hl7.org/fhir/StructureDefinition/narrativeLink",
            "valueUrl": "urn:uuid:3898688c-df30-4d56-9c70-022e8a5cab0e#Consent-urn:uuid:52908a34-bb07-45ae-b076-407571e8c155"
           }
          ],
          "meta": {
           "lastUpdated": "2023-09-11T21:20:34.982+00:00",
           "source": "#NmmbTFiiJk72ON0i",
           "versionId": "1"
          },
          "patient": {
           "display": "Patient, Johanna Petronella Maria (Jo) van Putten-van der Giessen",
           "reference": "urn:uuid:1691dac6-9e84-4767-8b4f-7b151539d755",
           "type": "Patient"
          },
          "policy": [
           {
            "uri": "https://wetten.overheid.nl/"
           }
          ],
          "provision": {
           "code": [
            {
             "coding": [
              {
               "code": "VOL",
               "display": "Volmacht",
               "system": "urn:oid:2.16.840.1.113883.2.4.3.11.60.40.4.14.1"
              }
             ]
            }
           ]
          },
          "resourceType": "Consent",
          "scope": {
           "coding": [
            {
             "code": "adr",
             "display": "Advanced Care Directive",
             "system": "http://terminology.hl7.org/CodeSystem/consentscope"
            }
           ]
          },
          "sourceAttachment": {
           "contentType": "application/octet-stream",
           "data": "volmacht"
          },
          "status": "active"
         }
        },
        {
         "fullUrl": "urn:uuid:27e569d9-8a02-4fe4-99f5-1679da1b50ff",
         "resource": {
          "address": [
           {
            "city": "Nicosia",
            "country": "CY",
            "line": [
             "1 University Avenue"
            ],
            "postalCode": "2109"
           }
          ],
          "name": "eHealthLab - University of Cyprus",
          "resourceType": "Organization"
         }
        }
       ],
       "identifier": {
        "system": "urn:ietf:rfc:4122",
        "value": "8b559a07-8b4e-4ab3-a8e7-d3ce576457af"
       },
       "resourceType": "Bundle",
       "timestamp": "2023-09-29T10:07:17.076+00:00",
       "type": "document"
      },
      "text/plain": [
       "<IPython.core.display.JSON object>"
      ]
     },
     "execution_count": 12,
     "metadata": {
      "application/json": {
       "expanded": false,
       "root": "root"
      }
     },
     "output_type": "execute_result"
    }
   ],
   "source": [
    "JSON(resp.json())"
   ]
  },
  {
   "cell_type": "markdown",
   "metadata": {},
   "source": [
    "- Make a list with of all resources which are in the type list, get the id's\n",
    "- Type list is in cell up above"
   ]
  },
  {
   "cell_type": "code",
   "execution_count": null,
   "metadata": {
    "tags": []
   },
   "outputs": [],
   "source": [
    "def delete_res(trash):\n",
    "    deleted = 0\n",
    "    for cnt, res in enumerate(trash):\n",
    "        resp = requests.delete(base + res[\"type\"] + '/' + res[\"id\"])\n",
    "        if resp.status_code not in (200, 201):\n",
    "            for issue in resp.json()[\"issue\"]:\n",
    "                print(issue)\n",
    "        else:\n",
    "            deleted += 1\n",
    "    return deleted"
   ]
  },
  {
   "cell_type": "markdown",
   "metadata": {},
   "source": [
    "- Delete the resources - may need pultiple runs because of dependencies. May take a while.\n",
    "- Only needed on servers which don't have cascade delete, see below"
   ]
  },
  {
   "cell_type": "code",
   "execution_count": null,
   "metadata": {
    "tags": []
   },
   "outputs": [],
   "source": [
    "trash = []\n",
    "# types = ['Consent']\n",
    "for restype in types:\n",
    "    query = '?patient=' + patientid\n",
    "    resp = requests.get(base + restype + query)\n",
    "    # print(restype, len(resp.json()['entry']) if 'entry' in resp.json() else 0)\n",
    "    try:\n",
    "        for entry in resp.json()['entry']:\n",
    "            trash.append({\"type\": restype, \"id\": entry['resource']['id']})\n",
    "    except KeyError:\n",
    "        pass\n",
    "    # For now we just try both 'subject' and 'patient', this could be improved\n",
    "    query = '?subject=' + patientid\n",
    "    resp = requests.get(base + restype + query)\n",
    "    # print(restype, len(resp.json()['entry']) if 'entry' in resp.json() else 0)\n",
    "    try:\n",
    "        for entry in resp.json()['entry']:\n",
    "            trash.append({\"type\": restype, \"id\": entry['resource']['id']})\n",
    "    except KeyError:\n",
    "        pass\n",
    "delete_res(trash)"
   ]
  },
  {
   "cell_type": "markdown",
   "metadata": {},
   "source": [
    "- Delete the patient resource - will fail on some servers if there still are dependent resources, HAPI support cascade delete"
   ]
  },
  {
   "cell_type": "code",
   "execution_count": null,
   "metadata": {
    "tags": []
   },
   "outputs": [],
   "source": [
    "href = base + 'Patient/' + patientid + '?_cascade=delete'\n",
    "print(href)\n",
    "resp = requests.delete(href)\n",
    "if resp.status_code not in (200, 201):\n",
    "    for issue in resp.json()[\"issue\"]:\n",
    "        print(issue)\n",
    "else:\n",
    "    print(resp.status_code)"
   ]
  },
  {
   "cell_type": "markdown",
   "metadata": {},
   "source": [
    "# Below are helper routines, don't need to be run in order after the others"
   ]
  },
  {
   "cell_type": "markdown",
   "metadata": {},
   "source": [
    "- Ad hoc routine\n",
    "- This cell is just to delete a chosen resource, usually no need to run this"
   ]
  },
  {
   "cell_type": "code",
   "execution_count": null,
   "metadata": {},
   "outputs": [],
   "source": []
  },
  {
   "cell_type": "code",
   "execution_count": 17,
   "metadata": {
    "tags": []
   },
   "outputs": [
    {
     "data": {
      "text/plain": [
       "200"
      ]
     },
     "execution_count": 17,
     "metadata": {},
     "output_type": "execute_result"
    }
   ],
   "source": [
    "resp = requests.delete(base + \"MedicationStatement/nl-core-MedicationUse2-01\" + '?_cascade=delete')\n",
    "# resp = requests.delete(base + \"Observation/nl-core-Pregnancy.PregnancyDuration-01\")\n",
    "resp.status_code"
   ]
  },
  {
   "cell_type": "code",
   "execution_count": 18,
   "metadata": {
    "tags": []
   },
   "outputs": [
    {
     "data": {
      "application/json": {
       "issue": [
        {
         "code": "informational",
         "details": {
          "coding": [
           {
            "code": "SUCCESSFUL_DELETE",
            "display": "Delete succeeded.",
            "system": "https://hapifhir.io/fhir/CodeSystem/hapi-fhir-storage-response-code"
           }
          ]
         },
         "diagnostics": "Successfully deleted 1 resource(s). Took 41ms.",
         "severity": "information"
        }
       ],
       "resourceType": "OperationOutcome",
       "text": {
        "div": "<div xmlns=\"http://www.w3.org/1999/xhtml\"><h1>Operation Outcome</h1><table border=\"0\"><tr><td style=\"font-weight: bold;\">INFORMATION</td><td>[]</td><td>Successfully deleted 1 resource(s). Took 41ms.</td></tr></table></div>",
        "status": "generated"
       }
      },
      "text/plain": [
       "<IPython.core.display.JSON object>"
      ]
     },
     "execution_count": 18,
     "metadata": {
      "application/json": {
       "expanded": false,
       "root": "root"
      }
     },
     "output_type": "execute_result"
    }
   ],
   "source": [
    "JSON(resp.json())"
   ]
  },
  {
   "cell_type": "markdown",
   "metadata": {},
   "source": [
    "- Ad hoc routine\n",
    "- Routine to remove meta, which contains the profile, which will not be known internationally anyway. Run before submitting resources, needs to be run only once."
   ]
  },
  {
   "cell_type": "code",
   "execution_count": null,
   "metadata": {},
   "outputs": [],
   "source": [
    "for file in files:\n",
    "    if file[0] == '.':\n",
    "        continue\n",
    "    with open(os.path.join(zibs, file)) as f:\n",
    "        jsondata = json.load(f)\n",
    "        try:\n",
    "            print(jsondata['subject'])\n",
    "        except:\n",
    "            print('no subject')\n",
    "    #    jsondata.pop('meta', 'no meta')\n",
    "    # with open(os.path.join(zibsr4, file), 'w') as f:\n",
    "    #     json.dump(jsondata, f)"
   ]
  },
  {
   "cell_type": "code",
   "execution_count": null,
   "metadata": {},
   "outputs": [],
   "source": [
    "for file in files:\n",
    "    if file[0] == '.':\n",
    "        continue\n",
    "    with open(os.path.join(zibs, file)) as f:\n",
    "        jsondata = json.load(f)\n",
    "        try:\n",
    "            print(jsondata['subject'])\n",
    "        except:\n",
    "            print('no subject')\n",
    "    #    jsondata.pop('meta', 'no meta')\n",
    "    # with open(os.path.join(zibsr4, file), 'w') as f:\n",
    "    #     json.dump(jsondata, f)"
   ]
  }
 ],
 "metadata": {
  "kernelspec": {
   "display_name": "Python 3 (ipykernel)",
   "language": "python",
   "name": "python3"
  },
  "language_info": {
   "codemirror_mode": {
    "name": "ipython",
    "version": 3
   },
   "file_extension": ".py",
   "mimetype": "text/x-python",
   "name": "python",
   "nbconvert_exporter": "python",
   "pygments_lexer": "ipython3",
   "version": "3.8.17"
  }
 },
 "nbformat": 4,
 "nbformat_minor": 4
}
