{
 "cells": [
  {
   "cell_type": "code",
   "execution_count": 1,
   "id": "8a7e810f",
   "metadata": {},
   "outputs": [],
   "source": [
    "import os\n",
    "import uuid\n",
    "import json"
   ]
  },
  {
   "cell_type": "code",
   "execution_count": 2,
   "id": "e7cfac6f",
   "metadata": {},
   "outputs": [
    {
     "name": "stdout",
     "output_type": "stream",
     "text": [
      "Bundle-bundle-swart.json\n",
      "Composition-composition-swart.json\n",
      "Condition-condition-growth.json\n",
      "Condition-condition-meerling.json\n",
      "Encounter-ziekenhuisopname-swart.json\n",
      "ImplementationGuide-hdrgz.json\n",
      "Observation-alcohol-swart.json\n",
      "Observation-bloeddruk-swart.json\n",
      "Observation-gewicht-swart.json\n",
      "Observation-lab-swart-1.json\n",
      "Observation-lab-swart-2.json\n",
      "Observation-lab-swart-3.json\n",
      "Observation-lab-swart-4.json\n",
      "Observation-lab-swart-5.json\n",
      "Observation-lab-swart-6.json\n",
      "Observation-levenvoelen-swart.json\n",
      "Observation-tobacco-swart.json\n",
      "Organization-organization-sophia.json\n",
      "Patient-patient-swart.json\n",
      "Procedure-sectio-swart.json\n"
     ]
    }
   ],
   "source": [
    "for f in os.listdir('./fsh-generated/resources'):\n",
    "    print(f)\n"
   ]
  },
  {
   "cell_type": "code",
   "execution_count": null,
   "id": "44959c37",
   "metadata": {},
   "outputs": [
    {
     "name": "stdout",
     "output_type": "stream",
     "text": [
      "Bundle-bundle-swart.json\n",
      "{'resourceType': 'Composition', 'id': 'composition-swart', 'author': [{'reference': 'http://example.org/Organization/organization-sophia'}], 'section': [{'text': {'status': 'generated', 'div': '<div xmlns=\"http://www.w3.org/1999/xhtml\">TODO</div>'}, 'section': [{'text': {'status': 'generated', 'div': '<div xmlns=\"http://www.w3.org/1999/xhtml\">TODO</div>'}, 'entry': [{'reference': 'http://example.org/Observation/gewicht-swart', 'display': '63 kg'}, {'reference': 'http://example.org/Observation/bloeddruk-swart', 'display': '70/120 mmHg'}, {'reference': 'http://example.org/Observation/levenvoelen-swart', 'display': 'foetale bewegingen aanwezig'}], 'title': 'Vital signs', 'code': {'coding': [{'code': '8716-3', 'system': 'http://loinc.org', 'display': 'Vital signs'}]}}, {'text': {'status': 'generated', 'div': '<div xmlns=\"http://www.w3.org/1999/xhtml\">TODO</div>'}, 'entry': [{'reference': 'http://example.org/Observation/alcohol-swart', 'display': 'does not drink alcohol'}, {'reference': 'http://example.org/Observation/tobacco-swart', 'display': 'smokes occasionally cigarettes'}], 'title': 'Social history', 'code': {'coding': [{'code': '29762-2', 'system': 'http://loinc.org', 'display': 'Social history Narrative'}]}}, {'text': {'status': 'generated', 'div': '<div xmlns=\"http://www.w3.org/1999/xhtml\">TODO</div>'}, 'entry': [{'reference': 'http://example.org/Procedure/sectio-swart', 'display': 'planned primary sectio caesarea'}], 'title': 'Significant procedures', 'code': {'coding': [{'code': '10185-7', 'system': 'http://loinc.org', 'display': 'Hospital discharge procedures Narrative'}]}}], 'title': 'Admission evaluation', 'code': {'coding': [{'code': '67851-6', 'system': 'http://loinc.org', 'display': 'Admission evaluation note'}]}}, {'text': {'status': 'generated', 'div': '<div xmlns=\"http://www.w3.org/1999/xhtml\">TODO</div>'}, 'entry': [{'reference': 'http://example.org/Condition/condition-meerling'}, {'reference': 'http://example.org/Condition/condition-growth'}], 'title': 'Problem List', 'code': {'coding': [{'code': '11450-4', 'system': 'http://loinc.org', 'display': 'Problem list - Reported'}]}}, {'text': {'status': 'generated', 'div': '<div xmlns=\"http://www.w3.org/1999/xhtml\">TODO</div>'}, 'entry': [{'reference': 'http://example.org/Observation/lab-swart-1', 'display': 'HBsAg'}, {'reference': 'http://example.org/Observation/lab-swart-2', 'display': 'Toxoplasma IgG'}, {'reference': 'http://example.org/Observation/lab-swart-3', 'display': 'ABO group'}, {'reference': 'http://example.org/Observation/lab-swart-4', 'display': 'Rh D factor'}, {'reference': 'http://example.org/Observation/lab-swart-5', 'display': 'hemoglobin'}, {'reference': 'http://example.org/Observation/lab-swart-6', 'display': 'HIV 1 As'}], 'title': 'Results', 'code': {'coding': [{'code': '30954-2', 'system': 'http://loinc.org', 'display': 'Relevant diagnostic tests/laboratory data Narrative'}]}}], 'status': 'final', 'type': {'coding': [{'code': '34105-7', 'system': 'http://loinc.org', 'display': 'Hospital Discharge summary'}]}, 'subject': {'reference': 'http://example.org/Patient/patient-swart'}, 'encounter': {'reference': 'http://example.org/Encounter/ziekenhuisopname-swart'}, 'date': '2023-11-01T10:18:13.947+00:00', 'title': 'Hospital Discharge summary', 'confidentiality': 'N'}\n",
      "{'resourceType': 'Condition', 'id': 'condition-growth', 'clinicalStatus': {'coding': [{'code': 'resolved', 'system': 'http://terminology.hl7.org/CodeSystem/condition-clinical'}]}, 'code': {'coding': [{'code': '22033007', 'system': 'http://snomed.info/sct', 'display': 'Fetal growth restriction'}]}, 'subject': {'reference': 'http://example.org/Patient/patient-swart', 'display': 'Fiona F XXX_Swart'}, 'onsetDateTime': '2025-02-08'}\n",
      "{'resourceType': 'Condition', 'id': 'condition-meerling', 'clinicalStatus': {'coding': [{'code': 'resolved', 'system': 'http://terminology.hl7.org/CodeSystem/condition-clinical'}]}, 'code': {'coding': [{'code': '459168005', 'system': 'http://snomed.info/sct', 'display': 'Monochorionic diamniotic twin pregnancy'}]}, 'subject': {'reference': 'http://example.org/Patient/patient-swart', 'display': 'Fiona F XXX_Swart'}, 'onsetDateTime': '2025-02-08'}\n",
      "{'resourceType': 'Encounter', 'id': 'ziekenhuisopname-swart', 'period': {'start': '2025-02-08T10:00:00+00:00', 'end': '2025-02-12T12:00:00+00:00'}, 'reasonCode': [{'coding': [{'code': '65147003', 'system': 'http://snomed.info/sct', 'display': 'Twin pregnancy'}]}], 'reasonReference': [{'reference': 'http://example.org/Condition/condition-meerling', 'display': 'Twin pregnancy'}], 'diagnosis': [{'condition': {'reference': 'http://example.org/Condition/condition-meerling', 'display': 'monochoriale diamniotische tweelingzwangerschap'}}], 'status': 'finished', 'class': {'code': 'IMP'}, 'subject': {'reference': 'http://example.org/Patient/patient-swart', 'display': 'Fiona F XXX_Swart'}}\n",
      "ImplementationGuide-hdrgz.json\n",
      "{'resourceType': 'Observation', 'id': 'alcohol-swart', 'status': 'final', 'code': {'coding': [{'code': '228273003', 'system': 'http://snomed.info/sct', 'display': 'Alcohol drinking behaviour'}]}, 'subject': {'reference': 'http://example.org/Patient/patient-swart', 'display': 'Fiona F XXX_Swart'}, 'effectiveDateTime': '2025-02-08', 'valueCodeableConcept': {'coding': [{'code': '105542008', 'system': 'http://snomed.info/sct', 'display': 'Current non-drinker of alcohol'}]}}\n",
      "{'resourceType': 'Observation', 'id': 'bloeddruk-swart', 'category': [{'coding': [{'code': 'vital-signs', 'system': 'http://terminology.hl7.org/CodeSystem/observation-category', 'display': 'Vital Signs'}]}], 'code': {'coding': [{'code': '85354-9', 'system': 'http://loinc.org', 'display': 'Blood pressure panel with all children optional'}, {'code': '55284-4', 'system': 'http://loinc.org', 'display': 'Blood pressure systolic and diastolic'}, {'code': '46973005', 'system': 'http://snomed.info/sct', 'display': 'Blood pressure taking'}]}, 'component': [{'code': {'coding': [{'code': '8480-6', 'system': 'http://loinc.org', 'display': 'Systolic blood pressure'}]}, 'valueQuantity': {'value': 120, 'code': 'mm[Hg]', 'system': 'http://unitsofmeasure.org', 'unit': 'mmHg'}}, {'code': {'coding': [{'code': '8462-4', 'system': 'http://loinc.org', 'display': 'Diastolic blood pressure'}]}, 'valueQuantity': {'value': 70, 'code': 'mm[Hg]', 'system': 'http://unitsofmeasure.org', 'unit': 'mmHg'}}], 'status': 'final', 'subject': {'reference': 'http://example.org/Patient/patient-swart', 'display': 'Fiona F XXX_Swart'}, 'effectiveDateTime': '2025-02-08'}\n",
      "{'resourceType': 'Observation', 'id': 'gewicht-swart', 'category': [{'coding': [{'code': 'vital-signs', 'system': 'http://terminology.hl7.org/CodeSystem/observation-category', 'display': 'Vital Signs'}]}], 'status': 'final', 'code': {'coding': [{'code': '29463-7', 'system': 'http://loinc.org', 'display': 'Body weight'}]}, 'subject': {'reference': 'http://example.org/Patient/patient-swart', 'display': 'Fiona F XXX_Swart'}, 'effectiveDateTime': '2025-02-08', 'valueQuantity': {'value': 63, 'code': 'kg', 'system': 'http://unitsofmeasure.org', 'unit': 'kg'}}\n",
      "{'resourceType': 'Observation', 'id': 'lab-swart-1', 'status': 'final', 'code': {'coding': [{'code': '58452-4', 'system': 'http://loinc.org', 'display': 'Hepatitis B-virusoppervlakte Ag [eenheden/volume] in serum'}]}, 'subject': {'reference': 'http://example.org/Patient/patient-swart', 'display': 'Fiona F XXX_Swart'}, 'valueQuantity': {'value': 0, 'code': \"k[arb'U]/L\", 'system': 'http://unitsofmeasure.org', 'unit': \"k[arb'U]/L\"}}\n",
      "{'resourceType': 'Observation', 'id': 'lab-swart-2', 'status': 'final', 'code': {'coding': [{'code': '8039-0', 'system': 'http://loinc.org', 'display': 'Toxoplasma gondii IgG Ab [Units/volume] in Serum'}]}, 'subject': {'reference': 'http://example.org/Patient/patient-swart', 'display': 'Fiona F XXX_Swart'}, 'valueQuantity': {'value': 9, 'code': \"k[arb'U]/L\", 'system': 'http://unitsofmeasure.org', 'unit': \"k[arb'U]/L\"}}\n",
      "{'resourceType': 'Observation', 'id': 'lab-swart-3', 'status': 'final', 'code': {'coding': [{'code': '883-9', 'system': 'http://loinc.org', 'display': 'ABO group [Type] in Blood'}]}, 'subject': {'reference': 'http://example.org/Patient/patient-swart', 'display': 'Fiona F XXX_Swart'}, 'valueCodeableConcept': {'coding': [{'code': '58460004', 'system': 'http://snomed.info/sct', 'display': 'bloedgroep O (bevinding)'}]}}\n",
      "{'resourceType': 'Observation', 'id': 'lab-swart-4', 'status': 'final', 'code': {'coding': [{'code': '1305-2', 'system': 'http://loinc.org', 'display': 'D Ag [Presence] in Blood'}]}, 'subject': {'reference': 'http://example.org/Patient/patient-swart', 'display': 'Fiona F XXX_Swart'}, 'valueCodeableConcept': {'coding': [{'code': '165747007', 'system': 'http://snomed.info/sct', 'display': 'Rh D Positief'}]}}\n",
      "{'resourceType': 'Observation', 'id': 'lab-swart-5', 'status': 'final', 'code': {'coding': [{'code': '93846-4', 'system': 'http://loinc.org', 'display': 'Hemoglobin [Moles/volume] in Venous blood'}]}, 'subject': {'reference': 'http://example.org/Patient/patient-swart', 'display': 'Fiona F XXX_Swart'}, 'valueQuantity': {'value': 7.3, 'code': 'mmol/L', 'system': 'http://unitsofmeasure.org', 'unit': 'mmol/L'}}\n",
      "{'resourceType': 'Observation', 'id': 'lab-swart-6', 'status': 'final', 'code': {'coding': [{'code': '29893-5', 'system': 'http://loinc.org', 'display': 'HIV 1 As [aanwezigheid] in serum of plasma d.m.v. immunoassay'}]}, 'subject': {'reference': 'http://example.org/Patient/patient-swart', 'display': 'Fiona F XXX_Swart'}, 'valueCodeableConcept': {'coding': [{'code': '165815009', 'system': 'http://snomed.info/sct', 'display': 'humaan immunodeficiëntievirus negatief (bevinding)'}]}}\n",
      "{'resourceType': 'Observation', 'id': 'levenvoelen-swart', 'identifier': [{'system': 'urn:oid:2.16.840.1.113883.2.4.3.11.999.7.6', 'value': '38e436bf-6b35-11ec-2213-020000000000'}], 'status': 'final', 'code': {'coding': [{'code': '364618000', 'system': 'http://snomed.info/sct', 'display': 'Pattern of fetal movement'}]}, 'subject': {'reference': 'http://example.org/Patient/patient-swart', 'display': 'Fiona F XXX_Swart'}, 'effectiveDateTime': '2025-02-08', 'valueCodeableConcept': {'coding': [{'code': '289431008', 'system': 'http://snomed.info/sct', 'display': 'Fetal movements present'}]}}\n",
      "{'resourceType': 'Observation', 'id': 'tobacco-swart', 'component': [{'code': {'coding': [{'code': '53661000146106', 'system': 'http://snomed.info/sct', 'display': 'Type of tobacco used (observable entity)'}]}, 'valueCodeableConcept': {'coding': [{'code': '722499006', 'system': 'http://snomed.info/sct', 'display': 'Electronic cigarette user'}]}}, {'code': {'coding': [{'code': '266918002', 'system': 'http://snomed.info/sct', 'display': 'Tobacco smoking consumption (observable entity)'}]}, 'valueQuantity': {'value': 6, 'code': '{keer per dag inhaleren}', 'system': 'http://unitsofmeasure.org', 'unit': 'keer per dag inhaleren'}}], 'status': 'final', 'code': {'coding': [{'code': '365980008', 'system': 'http://snomed.info/sct', 'display': 'Finding of tobacco use and exposure (finding)'}]}, 'subject': {'reference': 'http://example.org/Patient/patient-swart', 'display': 'Fiona F XXX_Swart'}, 'effectiveDateTime': '2025-02-08', 'valueCodeableConcept': {'coding': [{'code': '230059006', 'system': 'http://snomed.info/sct', 'display': 'Occasional cigarette smoker'}]}}\n",
      "{'resourceType': 'Organization', 'id': 'organization-sophia', 'identifier': [{'system': 'http://fhir.nl/fhir/NamingSystem/agb-z', 'value': '06020806'}], 'type': [{'coding': [{'version': '2.16.840.1.113883.2.4.6.7', 'code': '0300', 'system': 'urn:oid:2.16.840.1.113883.2.4.6.7', 'display': 'Medisch specialist'}]}, {'coding': [{'code': 'V5', 'system': 'http://nictiz.nl/fhir/NamingSystem/organization-type', 'display': 'Universitair Medisch Centrum'}]}], 'telecom': [{'system': 'phone', 'value': '0107040116'}, {'system': 'email', 'value': 'info@erasmusmc.nl'}], 'address': [{'line': ['Dr. Molewaterplein 60'], '_line': [{'extension': [{'url': 'http://hl7.org/fhir/StructureDefinition/iso21090-ADXP-streetName', 'valueString': 'Dr. Molewaterplein'}, {'url': 'http://hl7.org/fhir/StructureDefinition/iso21090-ADXP-houseNumber', 'valueString': '60'}]}], 'use': 'work', 'city': 'ROTTERDAM', 'postalCode': '3015GJ', 'country': 'NL'}], 'name': 'Erasmus MC, Sophia kinderziekenhuis'}\n",
      "{'resourceType': 'Patient', 'id': 'patient-swart', 'identifier': [{'system': 'http://fhir.nl/fhir/NamingSystem/bsn', 'value': '999901448'}], 'name': [{'extension': [{'url': 'http://hl7.org/fhir/StructureDefinition/humanname-assembly-order', 'valueCode': 'NL1'}], 'given': ['Fiona', 'F'], '_given': [{'extension': [{'url': 'http://hl7.org/fhir/StructureDefinition/iso21090-EN-qualifier', 'valueCode': 'BR'}]}, {'extension': [{'url': 'http://hl7.org/fhir/StructureDefinition/iso21090-EN-qualifier', 'valueCode': 'IN'}]}], 'text': 'Fiona XXX_Swart', 'family': 'XXX_Swart', '_family': {'extension': [{'url': 'http://hl7.org/fhir/StructureDefinition/humanname-own-name', 'valueString': 'XXX_Swart'}]}}], 'telecom': [{'system': 'phone', 'value': '0655223366', 'use': 'mobile'}], 'address': [{'line': ['Knolweg 1000'], '_line': [{'extension': [{'url': 'http://hl7.org/fhir/StructureDefinition/iso21090-ADXP-streetName', 'valueString': 'Knolweg'}, {'url': 'http://hl7.org/fhir/StructureDefinition/iso21090-ADXP-houseNumber', 'valueString': '1000'}]}], 'use': 'home', 'type': 'physical', 'city': 'STITSWERD', 'postalCode': '9999XA', 'country': 'NL'}], 'gender': 'female', 'birthDate': '1985-12-23', 'multipleBirthBoolean': False}\n",
      "{'resourceType': 'Procedure', 'id': 'sectio-swart', 'performedPeriod': {'start': '2025-02-10T10:03:00+02:00', 'end': '2025-02-10T11:48:00+02:00'}, 'status': 'completed', 'category': {'coding': [{'code': '386637004', 'system': 'http://snomed.info/sct', 'display': 'Obstetric procedure'}]}, 'code': {'coding': [{'code': '11466000', 'system': 'http://snomed.info/sct', 'display': 'Cesarean section'}]}, 'subject': {'reference': 'http://example.org/Patient/patient-swart', 'display': 'Fiona F XXX_Swart'}}\n"
     ]
    }
   ],
   "source": [
    "# Make a bundle out of the resources\n",
    "# After running this, there is a Bundle.json file in the resources directory\n",
    "# Use Gofsh to convert to FSH\n",
    "# and then run the FSH to generate the resources again\n",
    "bundle = {\n",
    "    'resourceType': 'Bundle',\n",
    "    'identifier': {\n",
    "        \"system\": \"urn:ietf:rfc:4122\",\n",
    "        'value': \"3e594fe5-3ed5-4305-a214-99c87e1f3bfa\"\n",
    "    },\n",
    "    'type': 'document',\n",
    "    \"timestamp\": \"2025-05-11T10:18:14.632+00:00\",\n",
    "    'entry': []\n",
    "}\n",
    "for f in os.listdir('./fsh-generated/resources'):\n",
    "    if f.endswith('.json') and not f.startswith('ImplementationGuide') and not f.startswith('Bundle'):\n",
    "        with open(f'./fsh-generated/resources/{f}') as json_file:\n",
    "            data = json.load(json_file)\n",
    "            print(data)\n",
    "            bundle['entry'].append({\n",
    "                'fullUrl': 'http://example.org/' + data['resourceType'] + '/' + data['id'],\n",
    "                'resource': data\n",
    "            })\n",
    "        with open(f'./fsh-generated/resources/Bundle.json', 'w') as outfile:\n",
    "            json.dump(bundle, outfile, indent=4)\n",
    "    else:\n",
    "        print(f)"
   ]
  },
  {
   "cell_type": "code",
   "execution_count": null,
   "id": "b0fbd2b4",
   "metadata": {},
   "outputs": [
    {
     "name": "stdout",
     "output_type": "stream",
     "text": [
      "c:\\Source\\hl7-eu\\hdrgz\\input\\instances.fsh\n"
     ]
    }
   ],
   "source": [
    "# Make a bundle out of the resources\n",
    "bundle = '''\n",
    "Instance: bundle-swart\n",
    "InstanceOf: Bundle\n",
    "Usage: #example\n",
    "* identifier.system = \"urn:ietf:rfc:4122\"\n",
    "* identifier.value = \"3e594fe5-3ed5-4305-a214-99c87e1f3bfa\"\n",
    "* type = #document\n",
    "* timestamp = \"2025-05-11T10:18:14.632+00:00\"\n",
    "* entry[0].fullUrl = \"http://example.org/Composition/composition-swart\"\n",
    "* entry[=].resource = composition-swart\n",
    "* entry[+].fullUrl = \"http://example.org/Condition/condition-meerling\"\n",
    "* entry[=].resource = condition-meerling'''\n"
   ]
  },
  {
   "cell_type": "code",
   "execution_count": null,
   "id": "e1fa54c9",
   "metadata": {},
   "outputs": [],
   "source": []
  }
 ],
 "metadata": {
  "kernelspec": {
   "display_name": "base",
   "language": "python",
   "name": "python3"
  },
  "language_info": {
   "codemirror_mode": {
    "name": "ipython",
    "version": 3
   },
   "file_extension": ".py",
   "mimetype": "text/x-python",
   "name": "python",
   "nbconvert_exporter": "python",
   "pygments_lexer": "ipython3",
   "version": "3.12.7"
  }
 },
 "nbformat": 4,
 "nbformat_minor": 5
}
